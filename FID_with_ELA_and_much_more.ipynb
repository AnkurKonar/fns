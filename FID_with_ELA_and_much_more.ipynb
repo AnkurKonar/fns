{
  "nbformat": 4,
  "nbformat_minor": 0,
  "metadata": {
    "colab": {
      "name": "Copy of FID with ELA and much more.ipynb",
      "version": "0.3.2",
      "provenance": []
    },
    "kernelspec": {
      "name": "python3",
      "display_name": "Python 3"
    },
    "accelerator": "GPU"
  },
  "cells": [
    {
      "metadata": {
        "id": "BwWVXmE69HJa",
        "colab_type": "code",
        "outputId": "a8e9bb87-e7db-46fe-9a04-60d88fe5f8e3",
        "colab": {
          "base_uri": "https://localhost:8080/",
          "height": 558
        }
      },
      "cell_type": "code",
      "source": [
        "!pip install bs4\n",
        "!pip install six\n",
        "!pip install Arrays\n",
        "!pip install gensim\n",
        "!pip install requests"
      ],
      "execution_count": 0,
      "outputs": [
        {
          "output_type": "stream",
          "text": [
            "Requirement already satisfied: bs4 in /usr/local/lib/python3.6/dist-packages (0.0.1)\n",
            "Requirement already satisfied: beautifulsoup4 in /usr/local/lib/python3.6/dist-packages (from bs4) (4.6.3)\n",
            "Requirement already satisfied: six in /usr/local/lib/python3.6/dist-packages (1.11.0)\n",
            "Collecting Arrays\n",
            "  Downloading https://files.pythonhosted.org/packages/d5/7c/341042b57f2b4174e87065d87ceecfb64ef922ac24b7550f58bc914bb1e8/Arrays-0.0.5-py3-none-any.whl\n",
            "Installing collected packages: Arrays\n",
            "Successfully installed Arrays-0.0.5\n",
            "Requirement already satisfied: gensim in /usr/local/lib/python3.6/dist-packages (3.6.0)\n",
            "Requirement already satisfied: smart-open>=1.2.1 in /usr/local/lib/python3.6/dist-packages (from gensim) (1.8.0)\n",
            "Requirement already satisfied: numpy>=1.11.3 in /usr/local/lib/python3.6/dist-packages (from gensim) (1.14.6)\n",
            "Requirement already satisfied: scipy>=0.18.1 in /usr/local/lib/python3.6/dist-packages (from gensim) (1.1.0)\n",
            "Requirement already satisfied: six>=1.5.0 in /usr/local/lib/python3.6/dist-packages (from gensim) (1.11.0)\n",
            "Requirement already satisfied: boto>=2.32 in /usr/local/lib/python3.6/dist-packages (from smart-open>=1.2.1->gensim) (2.49.0)\n",
            "Requirement already satisfied: bz2file in /usr/local/lib/python3.6/dist-packages (from smart-open>=1.2.1->gensim) (0.98)\n",
            "Requirement already satisfied: requests in /usr/local/lib/python3.6/dist-packages (from smart-open>=1.2.1->gensim) (2.18.4)\n",
            "Requirement already satisfied: boto3 in /usr/local/lib/python3.6/dist-packages (from smart-open>=1.2.1->gensim) (1.9.123)\n",
            "Requirement already satisfied: urllib3<1.23,>=1.21.1 in /usr/local/lib/python3.6/dist-packages (from requests->smart-open>=1.2.1->gensim) (1.22)\n",
            "Requirement already satisfied: idna<2.7,>=2.5 in /usr/local/lib/python3.6/dist-packages (from requests->smart-open>=1.2.1->gensim) (2.6)\n",
            "Requirement already satisfied: chardet<3.1.0,>=3.0.2 in /usr/local/lib/python3.6/dist-packages (from requests->smart-open>=1.2.1->gensim) (3.0.4)\n",
            "Requirement already satisfied: certifi>=2017.4.17 in /usr/local/lib/python3.6/dist-packages (from requests->smart-open>=1.2.1->gensim) (2019.3.9)\n",
            "Requirement already satisfied: jmespath<1.0.0,>=0.7.1 in /usr/local/lib/python3.6/dist-packages (from boto3->smart-open>=1.2.1->gensim) (0.9.4)\n",
            "Requirement already satisfied: s3transfer<0.3.0,>=0.2.0 in /usr/local/lib/python3.6/dist-packages (from boto3->smart-open>=1.2.1->gensim) (0.2.0)\n",
            "Requirement already satisfied: botocore<1.13.0,>=1.12.123 in /usr/local/lib/python3.6/dist-packages (from boto3->smart-open>=1.2.1->gensim) (1.12.123)\n",
            "Requirement already satisfied: python-dateutil<3.0.0,>=2.1; python_version >= \"2.7\" in /usr/local/lib/python3.6/dist-packages (from botocore<1.13.0,>=1.12.123->boto3->smart-open>=1.2.1->gensim) (2.5.3)\n",
            "Requirement already satisfied: docutils>=0.10 in /usr/local/lib/python3.6/dist-packages (from botocore<1.13.0,>=1.12.123->boto3->smart-open>=1.2.1->gensim) (0.14)\n",
            "Requirement already satisfied: requests in /usr/local/lib/python3.6/dist-packages (2.18.4)\n",
            "Requirement already satisfied: idna<2.7,>=2.5 in /usr/local/lib/python3.6/dist-packages (from requests) (2.6)\n",
            "Requirement already satisfied: chardet<3.1.0,>=3.0.2 in /usr/local/lib/python3.6/dist-packages (from requests) (3.0.4)\n",
            "Requirement already satisfied: urllib3<1.23,>=1.21.1 in /usr/local/lib/python3.6/dist-packages (from requests) (1.22)\n",
            "Requirement already satisfied: certifi>=2017.4.17 in /usr/local/lib/python3.6/dist-packages (from requests) (2019.3.9)\n"
          ],
          "name": "stdout"
        }
      ]
    },
    {
      "metadata": {
        "id": "m6qs8yku_9Qr",
        "colab_type": "code",
        "outputId": "41b7a686-2bab-43b0-f690-97bc982479ba",
        "colab": {
          "base_uri": "https://localhost:8080/",
          "height": 506
        }
      },
      "cell_type": "code",
      "source": [
        "!pip install google-cloud-vision"
      ],
      "execution_count": 0,
      "outputs": [
        {
          "output_type": "stream",
          "text": [
            "Collecting google-cloud-vision\n",
            "\u001b[?25l  Downloading https://files.pythonhosted.org/packages/f2/bf/112a0707a425961516693ac526725bc3f51db44fc3d02998da3ee2b82ef1/google_cloud_vision-0.36.0-py2.py3-none-any.whl (383kB)\n",
            "\u001b[K    100% |████████████████████████████████| 389kB 26.3MB/s \n",
            "\u001b[?25hRequirement already satisfied: google-api-core[grpc]<2.0.0dev,>=1.6.0 in /usr/local/lib/python3.6/dist-packages (from google-cloud-vision) (1.8.2)\n",
            "Requirement already satisfied: six>=1.10.0 in /usr/local/lib/python3.6/dist-packages (from google-api-core[grpc]<2.0.0dev,>=1.6.0->google-cloud-vision) (1.11.0)\n",
            "Requirement already satisfied: protobuf>=3.4.0 in /usr/local/lib/python3.6/dist-packages (from google-api-core[grpc]<2.0.0dev,>=1.6.0->google-cloud-vision) (3.7.1)\n",
            "Requirement already satisfied: googleapis-common-protos!=1.5.4,<2.0dev,>=1.5.3 in /usr/local/lib/python3.6/dist-packages (from google-api-core[grpc]<2.0.0dev,>=1.6.0->google-cloud-vision) (1.5.9)\n",
            "Requirement already satisfied: requests<3.0.0dev,>=2.18.0 in /usr/local/lib/python3.6/dist-packages (from google-api-core[grpc]<2.0.0dev,>=1.6.0->google-cloud-vision) (2.18.4)\n",
            "Requirement already satisfied: google-auth<2.0dev,>=0.4.0 in /usr/local/lib/python3.6/dist-packages (from google-api-core[grpc]<2.0.0dev,>=1.6.0->google-cloud-vision) (1.4.2)\n",
            "Requirement already satisfied: pytz in /usr/local/lib/python3.6/dist-packages (from google-api-core[grpc]<2.0.0dev,>=1.6.0->google-cloud-vision) (2018.9)\n",
            "Requirement already satisfied: setuptools>=34.0.0 in /usr/local/lib/python3.6/dist-packages (from google-api-core[grpc]<2.0.0dev,>=1.6.0->google-cloud-vision) (40.8.0)\n",
            "Requirement already satisfied: grpcio>=1.8.2; extra == \"grpc\" in /usr/local/lib/python3.6/dist-packages (from google-api-core[grpc]<2.0.0dev,>=1.6.0->google-cloud-vision) (1.15.0)\n",
            "Requirement already satisfied: chardet<3.1.0,>=3.0.2 in /usr/local/lib/python3.6/dist-packages (from requests<3.0.0dev,>=2.18.0->google-api-core[grpc]<2.0.0dev,>=1.6.0->google-cloud-vision) (3.0.4)\n",
            "Requirement already satisfied: certifi>=2017.4.17 in /usr/local/lib/python3.6/dist-packages (from requests<3.0.0dev,>=2.18.0->google-api-core[grpc]<2.0.0dev,>=1.6.0->google-cloud-vision) (2019.3.9)\n",
            "Requirement already satisfied: urllib3<1.23,>=1.21.1 in /usr/local/lib/python3.6/dist-packages (from requests<3.0.0dev,>=2.18.0->google-api-core[grpc]<2.0.0dev,>=1.6.0->google-cloud-vision) (1.22)\n",
            "Requirement already satisfied: idna<2.7,>=2.5 in /usr/local/lib/python3.6/dist-packages (from requests<3.0.0dev,>=2.18.0->google-api-core[grpc]<2.0.0dev,>=1.6.0->google-cloud-vision) (2.6)\n",
            "Requirement already satisfied: pyasn1-modules>=0.2.1 in /usr/local/lib/python3.6/dist-packages (from google-auth<2.0dev,>=0.4.0->google-api-core[grpc]<2.0.0dev,>=1.6.0->google-cloud-vision) (0.2.4)\n",
            "Requirement already satisfied: cachetools>=2.0.0 in /usr/local/lib/python3.6/dist-packages (from google-auth<2.0dev,>=0.4.0->google-api-core[grpc]<2.0.0dev,>=1.6.0->google-cloud-vision) (3.1.0)\n",
            "Requirement already satisfied: rsa>=3.1.4 in /usr/local/lib/python3.6/dist-packages (from google-auth<2.0dev,>=0.4.0->google-api-core[grpc]<2.0.0dev,>=1.6.0->google-cloud-vision) (4.0)\n",
            "Requirement already satisfied: pyasn1<0.5.0,>=0.4.1 in /usr/local/lib/python3.6/dist-packages (from pyasn1-modules>=0.2.1->google-auth<2.0dev,>=0.4.0->google-api-core[grpc]<2.0.0dev,>=1.6.0->google-cloud-vision) (0.4.5)\n",
            "Installing collected packages: google-cloud-vision\n",
            "Successfully installed google-cloud-vision-0.36.0\n"
          ],
          "name": "stdout"
        },
        {
          "output_type": "display_data",
          "data": {
            "application/vnd.colab-display-data+json": {
              "pip_warning": {
                "packages": [
                  "google"
                ]
              }
            }
          },
          "metadata": {
            "tags": []
          }
        }
      ]
    },
    {
      "metadata": {
        "id": "RNKyaDqcALWY",
        "colab_type": "code",
        "outputId": "a597fda6-8853-4559-c33e-5c43233ead1a",
        "colab": {
          "base_uri": "https://localhost:8080/",
          "height": 350
        }
      },
      "cell_type": "code",
      "source": [
        "!pip install google-cloud-language"
      ],
      "execution_count": 0,
      "outputs": [
        {
          "output_type": "stream",
          "text": [
            "Requirement already satisfied: google-cloud-language in /usr/local/lib/python3.6/dist-packages (1.0.2)\n",
            "Requirement already satisfied: google-api-core[grpc]<2.0.0dev,>=0.1.1 in /usr/local/lib/python3.6/dist-packages (from google-cloud-language) (1.8.2)\n",
            "Requirement already satisfied: six>=1.10.0 in /usr/local/lib/python3.6/dist-packages (from google-api-core[grpc]<2.0.0dev,>=0.1.1->google-cloud-language) (1.11.0)\n",
            "Requirement already satisfied: googleapis-common-protos!=1.5.4,<2.0dev,>=1.5.3 in /usr/local/lib/python3.6/dist-packages (from google-api-core[grpc]<2.0.0dev,>=0.1.1->google-cloud-language) (1.5.9)\n",
            "Requirement already satisfied: google-auth<2.0dev,>=0.4.0 in /usr/local/lib/python3.6/dist-packages (from google-api-core[grpc]<2.0.0dev,>=0.1.1->google-cloud-language) (1.4.2)\n",
            "Requirement already satisfied: protobuf>=3.4.0 in /usr/local/lib/python3.6/dist-packages (from google-api-core[grpc]<2.0.0dev,>=0.1.1->google-cloud-language) (3.7.1)\n",
            "Requirement already satisfied: pytz in /usr/local/lib/python3.6/dist-packages (from google-api-core[grpc]<2.0.0dev,>=0.1.1->google-cloud-language) (2018.9)\n",
            "Requirement already satisfied: requests<3.0.0dev,>=2.18.0 in /usr/local/lib/python3.6/dist-packages (from google-api-core[grpc]<2.0.0dev,>=0.1.1->google-cloud-language) (2.18.4)\n",
            "Requirement already satisfied: setuptools>=34.0.0 in /usr/local/lib/python3.6/dist-packages (from google-api-core[grpc]<2.0.0dev,>=0.1.1->google-cloud-language) (40.8.0)\n",
            "Requirement already satisfied: grpcio>=1.8.2; extra == \"grpc\" in /usr/local/lib/python3.6/dist-packages (from google-api-core[grpc]<2.0.0dev,>=0.1.1->google-cloud-language) (1.15.0)\n",
            "Requirement already satisfied: cachetools>=2.0.0 in /usr/local/lib/python3.6/dist-packages (from google-auth<2.0dev,>=0.4.0->google-api-core[grpc]<2.0.0dev,>=0.1.1->google-cloud-language) (3.1.0)\n",
            "Requirement already satisfied: rsa>=3.1.4 in /usr/local/lib/python3.6/dist-packages (from google-auth<2.0dev,>=0.4.0->google-api-core[grpc]<2.0.0dev,>=0.1.1->google-cloud-language) (4.0)\n",
            "Requirement already satisfied: pyasn1-modules>=0.2.1 in /usr/local/lib/python3.6/dist-packages (from google-auth<2.0dev,>=0.4.0->google-api-core[grpc]<2.0.0dev,>=0.1.1->google-cloud-language) (0.2.4)\n",
            "Requirement already satisfied: idna<2.7,>=2.5 in /usr/local/lib/python3.6/dist-packages (from requests<3.0.0dev,>=2.18.0->google-api-core[grpc]<2.0.0dev,>=0.1.1->google-cloud-language) (2.6)\n",
            "Requirement already satisfied: certifi>=2017.4.17 in /usr/local/lib/python3.6/dist-packages (from requests<3.0.0dev,>=2.18.0->google-api-core[grpc]<2.0.0dev,>=0.1.1->google-cloud-language) (2019.3.9)\n",
            "Requirement already satisfied: chardet<3.1.0,>=3.0.2 in /usr/local/lib/python3.6/dist-packages (from requests<3.0.0dev,>=2.18.0->google-api-core[grpc]<2.0.0dev,>=0.1.1->google-cloud-language) (3.0.4)\n",
            "Requirement already satisfied: urllib3<1.23,>=1.21.1 in /usr/local/lib/python3.6/dist-packages (from requests<3.0.0dev,>=2.18.0->google-api-core[grpc]<2.0.0dev,>=0.1.1->google-cloud-language) (1.22)\n",
            "Requirement already satisfied: pyasn1>=0.1.3 in /usr/local/lib/python3.6/dist-packages (from rsa>=3.1.4->google-auth<2.0dev,>=0.4.0->google-api-core[grpc]<2.0.0dev,>=0.1.1->google-cloud-language) (0.4.5)\n"
          ],
          "name": "stdout"
        }
      ]
    },
    {
      "metadata": {
        "id": "Oab8JYD8Al5d",
        "colab_type": "code",
        "outputId": "b4c0d848-5369-47d0-89e8-e1243dff3a2d",
        "colab": {
          "base_uri": "https://localhost:8080/",
          "height": 54
        }
      },
      "cell_type": "code",
      "source": [
        "from google.colab import drive\n",
        "drive.mount('/gdrive')"
      ],
      "execution_count": 0,
      "outputs": [
        {
          "output_type": "stream",
          "text": [
            "Drive already mounted at /gdrive; to attempt to forcibly remount, call drive.mount(\"/gdrive\", force_remount=True).\n"
          ],
          "name": "stdout"
        }
      ]
    },
    {
      "metadata": {
        "id": "PX-qt4QwA1jq",
        "colab_type": "code",
        "colab": {}
      },
      "cell_type": "code",
      "source": [
        "!cp ../../gdrive/My\\ Drive/GoogleNews-vectors-negative300.bin.gz ./"
      ],
      "execution_count": 0,
      "outputs": []
    },
    {
      "metadata": {
        "id": "Kb3XPRp0JxEn",
        "colab_type": "code",
        "colab": {}
      },
      "cell_type": "code",
      "source": [
        "import os\n",
        "import io\n",
        "import sys\n",
        "from bs4 import BeautifulSoup\n",
        "import requests\n",
        "import array as arr\n",
        "import six as six\n",
        "import gensim\n",
        "\n",
        "from google.cloud import vision\n",
        "from google.cloud import language\n",
        "from google.cloud.language import enums\n",
        "from google.cloud.language import types\n",
        "\n",
        "credential_path = \"key.json\"\n",
        "os.environ['GOOGLE_APPLICATION_CREDENTIALS'] = credential_path\n",
        "\n",
        "model1 = gensim.models.KeyedVectors.load_word2vec_format('GoogleNews-vectors-negative300.bin.gz', binary=True, limit = 500000)\n",
        "credible = ['economictimes.', 'huffingtonpost.', 'theprint.', 'thelogicalindian.', 'thequint.', 'altnews.', 'wsj.', 'nypost.', 'nytimes.', 'bbc.', 'reuters.', 'economist.', 'pbs.', 'aljazeera.', 'thewire.', 'theatlantic.', 'theguardian.', 'edition.cnn',\n",
        "            'cnbc.', 'scroll.in', 'financialexpress.', 'npr.', 'usatoday.', 'snopes.', 'politifact.']"
      ],
      "execution_count": 0,
      "outputs": []
    },
    {
      "metadata": {
        "id": "s4NumNdxMA-i",
        "colab_type": "code",
        "colab": {}
      },
      "cell_type": "code",
      "source": [
        "def entity_sentiment_text(text):\n",
        "    \"\"\"Detects entity sentiment in the provided text.\"\"\"\n",
        "    client = language.LanguageServiceClient()\n",
        "\n",
        "    if isinstance(text, six.binary_type):\n",
        "        text = text.decode('utf-8')\n",
        "\n",
        "    document = types.Document(\n",
        "        content=text.encode('utf-8'),\n",
        "        type=enums.Document.Type.PLAIN_TEXT)\n",
        "\n",
        "    # Detect and send native Python encoding to receive correct word offsets.\n",
        "    encoding = enums.EncodingType.UTF32\n",
        "    if sys.maxunicode == 65535:\n",
        "        encoding = enums.EncodingType.UTF16\n",
        "\n",
        "    result = client.analyze_entity_sentiment(document, encoding)\n",
        "\n",
        "    #for entity in result.entities:\n",
        "        #print('Mentions: ')\n",
        "        #print(u'Name: \"{}\"'.format(entity.name))\n",
        "        #for mention in entity.mentions:\n",
        "            #print(u'  Begin Offset : {}'.format(mention.text.begin_offset))\n",
        "            #print(u'  Content : {}'.format(mention.text.content))\n",
        "            #print(u'  Magnitude : {}'.format(mention.sentiment.magnitude))\n",
        "            #print(u'  Sentiment : {}'.format(mention.sentiment.score))\n",
        "            #print(u'  Type : {}'.format(mention.type))\n",
        "        #print(u'Salience: {}'.format(entity.salience))\n",
        "        #print(u'Sentiment: {}\\n'.format(entity.sentiment))\n",
        "\n",
        "#---------------------#--------------------#---------------------#--------------------#\n",
        "#Function for google's clous vision API\n",
        "def detect_web(path):\n",
        "    list = []\n",
        "    i = 0\n",
        "    \"\"\"Detects web annotations given an image.\"\"\"\n",
        "    from google.cloud import vision\n",
        "    client = vision.ImageAnnotatorClient()\n",
        "\n",
        "    with io.open(path, 'rb') as image_file:\n",
        "        content = image_file.read()\n",
        "\n",
        "    image = vision.types.Image(content=content)\n",
        "\n",
        "    response = client.web_detection(image=image)\n",
        "    annotations = response.web_detection\n",
        "\n",
        "    # if annotations.best_guess_labels:\n",
        "    #     for label in annotations.best_guess_labels:\n",
        "    #         print('\\nBest guess for the image: {}'.format(label.label))\n",
        "    #         print(\"--------------------------------------------------------------------------------\")\n",
        "\n",
        "\n",
        "    if annotations.pages_with_matching_images:\n",
        "        # print('\\n{} Pages with matching images found:'.format(\n",
        "        #     len(annotations.pages_with_matching_images)))\n",
        "\n",
        "        for page in annotations.pages_with_matching_images:\n",
        "            # print('\\n\\tPage url   : {}'.format(page.url))\n",
        "            list.append(page.url)\n",
        "\n",
        "    # if annotations.web_entities:\n",
        "    #     print('\\n{} Web entities found in the image: '.format(\n",
        "    #         len(annotations.web_entities)))\n",
        "\n",
        "    #     for entity in annotations.web_entities:\n",
        "    #         print('\\n\\tScore      : {}'.format(entity.score))\n",
        "    #         print(u'\\tDescription: {}'.format(entity.description))\n",
        "\n",
        "    # if annotations.visually_similar_images:\n",
        "    #     print('\\n{} visually similar images found:\\n'.format(\n",
        "    #         len(annotations.visually_similar_images)))\n",
        "\n",
        "    #     for image in annotations.visually_similar_images:\n",
        "    #         print('\\tImage url    : {}'.format(image.url))\n",
        "    # print(\"--------------------------------------------------------------------------------\")\n",
        "    return(list)\n",
        "#---------------------#--------------------#---------------------#--------------------#\n",
        "#Function to check which URLs belong to credible news sources\n",
        "def credible_list(list_of_page_urls):\n",
        "\n",
        "    c_list = []\n",
        "\n",
        "    c_length = len(credible)\n",
        "\n",
        "    url_length = len(list_of_page_urls)\n",
        "\n",
        "    f = [[0 for j in range(c_length)] for i in range(url_length)]\n",
        "    for i in range(url_length):\n",
        "        for j in range(c_length):\n",
        "            f[i][j] = list_of_page_urls[i].find(credible[j])\n",
        "            if((list_of_page_urls[i].find(credible[j])) > 0):\n",
        "                c_list.append(list_of_page_urls[i])\n",
        "    if c_list == []:\n",
        "        print(\"No credible sources have used this image, please perform human verification.\")\n",
        "        print(\"--------------------------------------------------------------------------------\")\n",
        "        exit(1)\n",
        "    return(c_list)\n",
        "#---------------------#--------------------#---------------------#--------------------#\n",
        "#Function to scrape titles off the given URLs\n",
        "def titles(credible_from_url_list):\n",
        "    title_list = []\n",
        "    for urls in credible_from_url_list:\n",
        "        if urls != []:\n",
        "            r = requests.get(urls)\n",
        "            html = r.content\n",
        "            soup = BeautifulSoup(html, 'html.parser')\n",
        "            title_list.append(soup.title.string)\n",
        "    return(title_list)\n",
        "\n",
        "#---------------------#--------------------#---------------------#--------------------#\n",
        "# #Function to print the scraped titles\n",
        "# def print_article_title(title_list):\n",
        "#     print(\"Credible article titles which use the same image: \")\n",
        "#     print(\"--------------------------------------------------------------------------------\")\n",
        "#     for title in title_list:\n",
        "#         print(title)\n",
        "#         print(\"--------------------------------------------------------------------------------\")\n",
        "#---------------------#--------------------#---------------------#--------------------#\n",
        "#Function to call google's language API for entity analysis\n",
        "def entity_analysis(title_list):\n",
        "    for title in title_list:\n",
        "        entity_sentiment_text(title)\n",
        "\n",
        "#---------------------#--------------------#---------------------#--------------------#\n",
        "#Function to compute the WM distances between titles and associated title and the average distance\n",
        "def wmdist(given_title,title_list):\n",
        "    # print(\"Word Mover's Distance for Titles:\")\n",
        "    # print(\"--------------------------------------------------------------------------------\")\n",
        "    distances = []\n",
        "    for title in title_list:\n",
        "        dist = model1.wmdistance(given_title, title) #determining WM distance\n",
        "        distances.append(dist)\n",
        "        #distance = model1.WmdSimilarity(given_title, title)\n",
        "\n",
        "    sum_dist = 0\n",
        "    for distance in distances:\n",
        "        sum_dist = sum_dist + distance\n",
        "        # print ('distance = %.3f' % distance)\n",
        "        # print(\"--------------------------------------------------------------------------------\")\n",
        "\n",
        "    avg_dist = sum_dist/len(distances)\n",
        "    # print(\"Average Distance: {}\".format(avg_dist))\n",
        "    # print(\"--------------------------------------------------------------------------------\")\n",
        "    return(avg_dist)\n",
        "\n",
        "#---------------------#--------------------#---------------------#--------------------#\n",
        "#Function to decide whether human verification is required\n",
        "def human_ver(avg_dist):\n",
        "    if(avg_dist >= 1.0):\n",
        "        return 0\n",
        "    else:\n",
        "        return 1"
      ],
      "execution_count": 0,
      "outputs": []
    },
    {
      "metadata": {
        "id": "pMHoPToyMH3N",
        "colab_type": "code",
        "colab": {}
      },
      "cell_type": "code",
      "source": [
        "def check(given_title,image_path):\n",
        "    list_of_page_urls = []\n",
        "    credible_from_url_list = []\n",
        "    title_list = []\n",
        "    list_of_page_urls = detect_web(image_path)\n",
        "    credible_from_url_list = credible_list(list_of_page_urls)\n",
        "    title_list = titles(credible_from_url_list)\n",
        "    entity_analysis(title_list)\n",
        "    avg_dist = wmdist(given_title, title_list)\n",
        "    score = human_ver(avg_dist)\n",
        "    return list_of_page_urls, credible_from_url_list, title_list"
      ],
      "execution_count": 0,
      "outputs": []
    },
    {
      "metadata": {
        "id": "5GzAI__YMTrR",
        "colab_type": "code",
        "colab": {}
      },
      "cell_type": "code",
      "source": [
        "list_of_page_urls, credible_from_url_list, title_list = check('PM Modi Wave a Pakistani Flag','modi.jpeg')"
      ],
      "execution_count": 0,
      "outputs": []
    },
    {
      "metadata": {
        "id": "Exrj_-RZMyJm",
        "colab_type": "code",
        "outputId": "42757ef4-c7b2-40e6-8784-3c4abae2c691",
        "colab": {
          "base_uri": "https://localhost:8080/",
          "height": 211
        }
      },
      "cell_type": "code",
      "source": [
        "list_of_page_urls"
      ],
      "execution_count": 0,
      "outputs": [
        {
          "output_type": "execute_result",
          "data": {
            "text/plain": [
              "['https://www.thequint.com/news/webqoof/fake-doctored-image-narendra-modi-waving-green-flag-pakistan',\n",
              " 'http://newsmobile.in/articles/2019/02/22/pm-modi-didnt-wave-pakistani-flag-dont-believe-this-photoshopped-picture/',\n",
              " 'https://timesofindia.indiatimes.com/news/fact-check-photo-showing-pm-modi-with-islamic-flag-is-fake/articleshow/68106706.cms',\n",
              " 'https://www.indiatoday.in/fact-check/story/fact-check-morphed-image-shows-pm-modi-waving-islamic-flag-1461707-2019-02-21',\n",
              " 'https://www.vishvasnews.com/english/politics/fact-check-pm-did-not-wave-pakistani-flag-the-viral-image-is-photoshopped/',\n",
              " 'https://www.boomlive.in/doctored-image-of-pm-modi-goes-viral/',\n",
              " 'https://www.msn.com/es-xl/noticias/fotos/sex-racket-busted-in-meerut/vp-BBKuIgw',\n",
              " 'https://facthunt.in/rumour/73/PM-Modi-waved-Islamic-Flag:-No,-the-image-is-photoshopped',\n",
              " 'https://www.msn.com/en-in/news/other/adopt-a-heritage-dalmia-group-adopts-red-fort-tajmahal/vp-AAwsiaD',\n",
              " 'https://www.hotstar.com/news/fact-check-video-did-pm-modi-wave-pakistans-flag/1341063804']"
            ]
          },
          "metadata": {
            "tags": []
          },
          "execution_count": 56
        }
      ]
    },
    {
      "metadata": {
        "id": "wcuE-f7CNaJF",
        "colab_type": "code",
        "outputId": "cc76d8b7-4bc4-4931-aab1-23297b269182",
        "colab": {
          "base_uri": "https://localhost:8080/",
          "height": 34
        }
      },
      "cell_type": "code",
      "source": [
        "credible_from_url_list"
      ],
      "execution_count": 0,
      "outputs": [
        {
          "output_type": "execute_result",
          "data": {
            "text/plain": [
              "['https://www.thequint.com/news/webqoof/fake-doctored-image-narendra-modi-waving-green-flag-pakistan']"
            ]
          },
          "metadata": {
            "tags": []
          },
          "execution_count": 57
        }
      ]
    },
    {
      "metadata": {
        "id": "l9qozzGuNbNM",
        "colab_type": "code",
        "outputId": "887979c9-2d40-4a66-a58a-f9c4ade2f39e",
        "colab": {
          "base_uri": "https://localhost:8080/",
          "height": 34
        }
      },
      "cell_type": "code",
      "source": [
        "title_list"
      ],
      "execution_count": 0,
      "outputs": [
        {
          "output_type": "execute_result",
          "data": {
            "text/plain": [
              "['Fact Check: No, PM Modi Didn’t Wave a Pakistani Flag, it’s Photoshopped']"
            ]
          },
          "metadata": {
            "tags": []
          },
          "execution_count": 58
        }
      ]
    },
    {
      "metadata": {
        "id": "CHtd-5q1NcOL",
        "colab_type": "code",
        "outputId": "b2706fc6-b5a5-4e0d-b28b-efc03b607723",
        "colab": {
          "base_uri": "https://localhost:8080/",
          "height": 34
        }
      },
      "cell_type": "code",
      "source": [
        "score"
      ],
      "execution_count": 0,
      "outputs": [
        {
          "output_type": "execute_result",
          "data": {
            "text/plain": [
              "1"
            ]
          },
          "metadata": {
            "tags": []
          },
          "execution_count": 59
        }
      ]
    },
    {
      "metadata": {
        "id": "9S3RiDDOOM__",
        "colab_type": "text"
      },
      "cell_type": "markdown",
      "source": [
        "\n",
        "\n",
        "---\n",
        "\n"
      ]
    },
    {
      "metadata": {
        "id": "2AEYAM1KNr05",
        "colab_type": "code",
        "colab": {}
      },
      "cell_type": "code",
      "source": [
        "import pandas as pd\n",
        "import numpy as np\n",
        "import matplotlib.pyplot as plt\n",
        "import matplotlib.image as mpimg\n",
        "import seaborn as sns\n",
        "%matplotlib inline\n",
        "\n",
        "np.random.seed(2)\n",
        "\n",
        "from sklearn.model_selection import train_test_split\n",
        "from sklearn.metrics import confusion_matrix\n",
        "import itertools\n",
        "\n",
        "from keras.utils.np_utils import to_categorical # convert to one-hot-encoding\n",
        "from keras.models import Sequential\n",
        "from keras.layers import Dense, Dropout, Flatten, Conv2D, MaxPool2D\n",
        "from keras.optimizers import RMSprop\n",
        "from keras.preprocessing.image import ImageDataGenerator\n",
        "from keras.callbacks import ReduceLROnPlateau, EarlyStopping\n",
        "\n",
        "sns.set(style='white', context='notebook', palette='deep')\n",
        "\n",
        "from PIL import Image\n",
        "import os\n",
        "from pylab import *\n",
        "import re\n",
        "from PIL import Image, ImageChops, ImageEnhance"
      ],
      "execution_count": 0,
      "outputs": []
    },
    {
      "metadata": {
        "id": "fgtWjrLNOMZZ",
        "colab_type": "code",
        "colab": {}
      },
      "cell_type": "code",
      "source": [
        "def get_imlist(path):\n",
        "    return [os.path.join(path,f) for f in os.listdir(path) if f.endswith('.jpg') or f.endswith('.png')]\n",
        "\n",
        "def convert_to_ela_image(path, quality):\n",
        "    filename = path\n",
        "    resaved_filename = filename.split('.')[0] + '.resaved.jpg'\n",
        "    ELA_filename = filename.split('.')[0] + '.ela.png'\n",
        "    \n",
        "    im = Image.open(filename).convert('RGB')\n",
        "    im.save(resaved_filename, 'JPEG', quality=quality)\n",
        "    resaved_im = Image.open(resaved_filename)\n",
        "    \n",
        "    ela_im = ImageChops.difference(im, resaved_im)\n",
        "    \n",
        "    extrema = ela_im.getextrema()\n",
        "    max_diff = max([ex[1] for ex in extrema])\n",
        "    if max_diff == 0:\n",
        "        max_diff = 1\n",
        "    scale = 255.0 / max_diff\n",
        "    \n",
        "    ela_im = ImageEnhance.Brightness(ela_im).enhance(scale)\n",
        "    \n",
        "    return ela_im"
      ],
      "execution_count": 0,
      "outputs": []
    },
    {
      "metadata": {
        "id": "xnqB8YLvOXyc",
        "colab_type": "code",
        "outputId": "5bf923cf-22c8-4c22-beb8-d4515c32916c",
        "colab": {
          "base_uri": "https://localhost:8080/",
          "height": 121
        }
      },
      "cell_type": "code",
      "source": [
        "model = Sequential()\n",
        "\n",
        "model.add(Conv2D(filters = 32, kernel_size = (5,5),padding = 'valid', \n",
        "                 activation ='relu', input_shape = (128,128,3)))\n",
        "print(\"Input: \", model.input_shape)\n",
        "print(\"Output: \", model.output_shape)\n",
        "\n",
        "model.add(Conv2D(filters = 32, kernel_size = (5,5),padding = 'valid', \n",
        "                 activation ='relu'))\n",
        "print(\"Input: \", model.input_shape)\n",
        "print(\"Output: \", model.output_shape)\n",
        "\n",
        "model.add(MaxPool2D(pool_size=(2,2)))\n",
        "\n",
        "model.add(Dropout(0.25))\n",
        "print(\"Input: \", model.input_shape)\n",
        "print(\"Output: \", model.output_shape)\n",
        "\n",
        "model.add(Flatten())\n",
        "model.add(Dense(256, activation = \"relu\"))\n",
        "model.add(Dropout(0.5))\n",
        "model.add(Dense(2, activation = \"softmax\"))\n",
        "\n",
        "optimizer = RMSprop(lr=0.0005, rho=0.9, epsilon=1e-08, decay=0.0)\n",
        "model.compile(optimizer = optimizer , loss = \"categorical_crossentropy\", metrics=[\"accuracy\"])"
      ],
      "execution_count": 0,
      "outputs": [
        {
          "output_type": "stream",
          "text": [
            "Input:  (None, 128, 128, 3)\n",
            "Output:  (None, 124, 124, 32)\n",
            "Input:  (None, 128, 128, 3)\n",
            "Output:  (None, 120, 120, 32)\n",
            "Input:  (None, 128, 128, 3)\n",
            "Output:  (None, 60, 60, 32)\n"
          ],
          "name": "stdout"
        }
      ]
    },
    {
      "metadata": {
        "id": "Pv9rHS6VOvZn",
        "colab_type": "code",
        "colab": {}
      },
      "cell_type": "code",
      "source": [
        "model.load_weights('../../gdrive/My Drive/model_image-05-0.9427.hdf5')"
      ],
      "execution_count": 0,
      "outputs": []
    },
    {
      "metadata": {
        "id": "yiVgDeMdOzVJ",
        "colab_type": "code",
        "outputId": "c95e55cc-073e-4ed6-9c56-9f209743d31f",
        "colab": {
          "base_uri": "https://localhost:8080/",
          "height": 34
        }
      },
      "cell_type": "code",
      "source": [
        "x_test_arr = []\n",
        "x_test = 'modi.jpeg'\n",
        "x_test_arr.append(array(convert_to_ela_image(x_test, 50).resize((128, 128))).flatten() / 255.0)\n",
        "x_test_arr = np.array(x_test_arr)\n",
        "x_test_arr = x_test_arr.reshape(-1, 128, 128, 3)\n",
        "model.predict(x_test_arr)"
      ],
      "execution_count": 0,
      "outputs": [
        {
          "output_type": "execute_result",
          "data": {
            "text/plain": [
              "array([[0.71227366, 0.28772634]], dtype=float32)"
            ]
          },
          "metadata": {
            "tags": []
          },
          "execution_count": 71
        }
      ]
    },
    {
      "metadata": {
        "id": "lUos1Y5iO5Il",
        "colab_type": "code",
        "colab": {}
      },
      "cell_type": "code",
      "source": [
        "def just_image_check(image_path):\n",
        "  # 0 - Fake, 1- Real\n",
        "  x_test_arr = []\n",
        "  x_test = image_path\n",
        "  x_test_arr.append(array(convert_to_ela_image(x_test, 50).resize((128, 128))).flatten() / 255.0)\n",
        "  x_test_arr = np.array(x_test_arr)\n",
        "  x_test_arr = x_test_arr.reshape(-1, 128, 128, 3)\n",
        "  arr = model.predict_classes(x_test_arr)\n",
        "  return arr[0]"
      ],
      "execution_count": 0,
      "outputs": []
    },
    {
      "metadata": {
        "id": "lGAZKiaETpNJ",
        "colab_type": "code",
        "outputId": "f6ff5081-b2a3-415f-e1e7-82e99b38916e",
        "colab": {
          "base_uri": "https://localhost:8080/",
          "height": 34
        }
      },
      "cell_type": "code",
      "source": [
        "just_image_check('./modi.jpeg')"
      ],
      "execution_count": 0,
      "outputs": [
        {
          "output_type": "execute_result",
          "data": {
            "text/plain": [
              "0"
            ]
          },
          "metadata": {
            "tags": []
          },
          "execution_count": 70
        }
      ]
    },
    {
      "metadata": {
        "id": "P0ZKYt3gTsd2",
        "colab_type": "code",
        "colab": {}
      },
      "cell_type": "code",
      "source": [
        ""
      ],
      "execution_count": 0,
      "outputs": []
    }
  ]
}