{
  "nbformat": 4,
  "nbformat_minor": 0,
  "metadata": {
    "colab": {
      "name": "Biaser.ipynb",
      "version": "0.3.2",
      "provenance": [],
      "collapsed_sections": []
    },
    "kernelspec": {
      "name": "python3",
      "display_name": "Python 3"
    }
  },
  "cells": [
    {
      "metadata": {
        "id": "evdmv0HIgjBP",
        "colab_type": "code",
        "colab": {}
      },
      "cell_type": "code",
      "source": [
        "headline = \"PM Modi's Mission Shakti didn't violate Poll Code: Election Commission\""
      ],
      "execution_count": 0,
      "outputs": []
    },
    {
      "metadata": {
        "id": "YVYY6VmnwN7N",
        "colab_type": "code",
        "outputId": "3d1acc09-a804-46ac-d3a0-ddd3dc845481",
        "colab": {
          "base_uri": "https://localhost:8080/",
          "height": 224
        }
      },
      "cell_type": "code",
      "source": [
        "!CFLAGS=\"-Wno-narrowing\" pip install cld2-cffi"
      ],
      "execution_count": 0,
      "outputs": [
        {
          "output_type": "stream",
          "text": [
            "Collecting cld2-cffi\n",
            "  Using cached https://files.pythonhosted.org/packages/52/6d/044789e730141bcda2a7368836f714684a7d13bd44a2a33b387cb31b4335/cld2-cffi-0.1.4.tar.gz\n",
            "Requirement already satisfied: cffi in /usr/local/lib/python3.6/dist-packages (from cld2-cffi) (1.12.2)\n",
            "Requirement already satisfied: six in /usr/local/lib/python3.6/dist-packages (from cld2-cffi) (1.11.0)\n",
            "Requirement already satisfied: pycparser in /usr/local/lib/python3.6/dist-packages (from cffi->cld2-cffi) (2.19)\n",
            "Building wheels for collected packages: cld2-cffi\n",
            "  Building wheel for cld2-cffi (setup.py) ... \u001b[?25ldone\n",
            "\u001b[?25h  Stored in directory: /root/.cache/pip/wheels/ac/a3/fa/af23f439693a5c3da8fe0942cfc5e57656799d24e6bb8c9c31\n",
            "Successfully built cld2-cffi\n",
            "Installing collected packages: cld2-cffi\n",
            "Successfully installed cld2-cffi-0.1.4\n"
          ],
          "name": "stdout"
        }
      ]
    },
    {
      "metadata": {
        "id": "UJxdi-uJwxiK",
        "colab_type": "code",
        "outputId": "e112ebe1-7a8e-49bb-db22-8cbfdb6bb48f",
        "colab": {
          "base_uri": "https://localhost:8080/",
          "height": 432
        }
      },
      "cell_type": "code",
      "source": [
        "!pip install multi-rake"
      ],
      "execution_count": 0,
      "outputs": [
        {
          "output_type": "stream",
          "text": [
            "Collecting multi-rake\n",
            "  Using cached https://files.pythonhosted.org/packages/5f/26/8d1fd22c5e1bf65936bae9f8201df2fa8cefe6fa0b28f471384e8101b298/multi_rake-0.0.1-py3-none-any.whl\n",
            "Requirement already satisfied: pyrsistent>=0.14.2 in /usr/local/lib/python3.6/dist-packages (from multi-rake) (0.14.11)\n",
            "Requirement already satisfied: numpy>=1.14.4 in /usr/local/lib/python3.6/dist-packages (from multi-rake) (1.14.6)\n",
            "Requirement already satisfied: cld2-cffi>=0.1.4 in /usr/local/lib/python3.6/dist-packages (from multi-rake) (0.1.4)\n",
            "Collecting regex>=2018.6.6 (from multi-rake)\n",
            "  Using cached https://files.pythonhosted.org/packages/a3/d5/7dca7f9a629f8cfb06232bc23b4ce1bb5daa2115cbeee7f6868c57f2beb3/regex-2019.03.12.tar.gz\n",
            "Requirement already satisfied: six in /usr/local/lib/python3.6/dist-packages (from pyrsistent>=0.14.2->multi-rake) (1.11.0)\n",
            "Requirement already satisfied: cffi in /usr/local/lib/python3.6/dist-packages (from cld2-cffi>=0.1.4->multi-rake) (1.12.2)\n",
            "Requirement already satisfied: pycparser in /usr/local/lib/python3.6/dist-packages (from cffi->cld2-cffi>=0.1.4->multi-rake) (2.19)\n",
            "Building wheels for collected packages: regex\n",
            "  Building wheel for regex (setup.py) ... \u001b[?25ldone\n",
            "\u001b[?25h  Stored in directory: /root/.cache/pip/wheels/d3/76/85/9ba95e5ce50e8a922cfaf5ce518584b1c4ff2655870af24d37\n",
            "Successfully built regex\n",
            "\u001b[31mspacy 2.0.18 has requirement numpy>=1.15.0, but you'll have numpy 1.14.6 which is incompatible.\u001b[0m\n",
            "\u001b[31mspacy 2.0.18 has requirement regex==2018.01.10, but you'll have regex 2019.3.12 which is incompatible.\u001b[0m\n",
            "\u001b[31mfastai 1.0.50.post1 has requirement numpy>=1.15, but you'll have numpy 1.14.6 which is incompatible.\u001b[0m\n",
            "Installing collected packages: regex, multi-rake\n",
            "  Found existing installation: regex 2018.1.10\n",
            "    Uninstalling regex-2018.1.10:\n",
            "      Successfully uninstalled regex-2018.1.10\n",
            "Successfully installed multi-rake-0.0.1 regex-2019.3.12\n"
          ],
          "name": "stdout"
        }
      ]
    },
    {
      "metadata": {
        "id": "iPwzjnQTw4BI",
        "colab_type": "code",
        "colab": {}
      },
      "cell_type": "code",
      "source": [
        "from multi_rake import Rake"
      ],
      "execution_count": 0,
      "outputs": []
    },
    {
      "metadata": {
        "id": "D8SzbGtYxJHr",
        "colab_type": "code",
        "colab": {}
      },
      "cell_type": "code",
      "source": [
        "rake = Rake()"
      ],
      "execution_count": 0,
      "outputs": []
    },
    {
      "metadata": {
        "id": "6q7qLrWhxOEp",
        "colab_type": "code",
        "outputId": "c558c63b-dd38-469d-d827-296165ee26fc",
        "colab": {
          "base_uri": "https://localhost:8080/",
          "height": 35
        }
      },
      "cell_type": "code",
      "source": [
        "keywords = rake.apply(headline)\n",
        "print(keywords[:10])"
      ],
      "execution_count": 0,
      "outputs": [
        {
          "output_type": "stream",
          "text": [
            "[('violate poll code', 9.0), ('election commission', 4.0)]\n"
          ],
          "name": "stdout"
        }
      ]
    },
    {
      "metadata": {
        "id": "ynZHXokdxc2a",
        "colab_type": "code",
        "outputId": "a86d737e-5c89-4d40-b2ae-1a10e714ee02",
        "colab": {
          "base_uri": "https://localhost:8080/",
          "height": 320
        }
      },
      "cell_type": "code",
      "source": [
        "!sudo pip install -U nltk"
      ],
      "execution_count": 0,
      "outputs": [
        {
          "output_type": "stream",
          "text": [
            "Collecting nltk\n",
            "\u001b[?25l  Downloading https://files.pythonhosted.org/packages/6f/ed/9c755d357d33bc1931e157f537721efb5b88d2c583fe593cc09603076cc3/nltk-3.4.zip (1.4MB)\n",
            "\u001b[K    100% |████████████████████████████████| 1.4MB 6.2MB/s \n",
            "\u001b[?25hRequirement already satisfied, skipping upgrade: six in /usr/local/lib/python3.6/dist-packages (from nltk) (1.11.0)\n",
            "Collecting singledispatch (from nltk)\n",
            "  Downloading https://files.pythonhosted.org/packages/c5/10/369f50bcd4621b263927b0a1519987a04383d4a98fb10438042ad410cf88/singledispatch-3.4.0.3-py2.py3-none-any.whl\n",
            "Building wheels for collected packages: nltk\n",
            "  Building wheel for nltk (setup.py) ... \u001b[?25ldone\n",
            "\u001b[?25h  Stored in directory: /root/.cache/pip/wheels/4b/c8/24/b2343664bcceb7147efeb21c0b23703a05b23fcfeaceaa2a1e\n",
            "Successfully built nltk\n",
            "Installing collected packages: singledispatch, nltk\n",
            "  Found existing installation: nltk 3.2.5\n",
            "    Uninstalling nltk-3.2.5:\n",
            "      Successfully uninstalled nltk-3.2.5\n",
            "Successfully installed nltk-3.4 singledispatch-3.4.0.3\n"
          ],
          "name": "stdout"
        }
      ]
    },
    {
      "metadata": {
        "id": "Br3bBwZIyrm-",
        "colab_type": "code",
        "outputId": "9bce8a20-25a4-40bb-edab-af093b323110",
        "colab": {
          "base_uri": "https://localhost:8080/",
          "height": 73
        }
      },
      "cell_type": "code",
      "source": [
        "import nltk\n",
        "nltk.download('punkt')"
      ],
      "execution_count": 0,
      "outputs": [
        {
          "output_type": "stream",
          "text": [
            "[nltk_data] Downloading package punkt to /root/nltk_data...\n",
            "[nltk_data]   Unzipping tokenizers/punkt.zip.\n"
          ],
          "name": "stderr"
        },
        {
          "output_type": "execute_result",
          "data": {
            "text/plain": [
              "True"
            ]
          },
          "metadata": {
            "tags": []
          },
          "execution_count": 17
        }
      ]
    },
    {
      "metadata": {
        "id": "2g2Q0ElfzYip",
        "colab_type": "code",
        "outputId": "0e1e7046-146a-43bb-ac59-10378a05e655",
        "colab": {
          "base_uri": "https://localhost:8080/",
          "height": 35
        }
      },
      "cell_type": "code",
      "source": [
        "from nltk.tokenize import word_tokenize\n",
        "tokens = word_tokenize(headline)\n",
        "print(tokens[:100])"
      ],
      "execution_count": 0,
      "outputs": [
        {
          "output_type": "stream",
          "text": [
            "['PM', 'Modi', \"'s\", 'Mission', 'Shakti', 'did', \"n't\", 'violate', 'Poll', 'Code', ':', 'Election', 'Commission']\n"
          ],
          "name": "stdout"
        }
      ]
    },
    {
      "metadata": {
        "id": "Xr8LlFwe15Uw",
        "colab_type": "code",
        "outputId": "09020bd1-8202-44da-fec8-127b0a9555c4",
        "colab": {
          "base_uri": "https://localhost:8080/",
          "height": 111
        }
      },
      "cell_type": "code",
      "source": [
        "!pip3 install requests"
      ],
      "execution_count": 0,
      "outputs": [
        {
          "output_type": "stream",
          "text": [
            "Requirement already satisfied: requests in /usr/local/lib/python3.6/dist-packages (2.18.4)\n",
            "Requirement already satisfied: urllib3<1.23,>=1.21.1 in /usr/local/lib/python3.6/dist-packages (from requests) (1.22)\n",
            "Requirement already satisfied: idna<2.7,>=2.5 in /usr/local/lib/python3.6/dist-packages (from requests) (2.6)\n",
            "Requirement already satisfied: chardet<3.1.0,>=3.0.2 in /usr/local/lib/python3.6/dist-packages (from requests) (3.0.4)\n",
            "Requirement already satisfied: certifi>=2017.4.17 in /usr/local/lib/python3.6/dist-packages (from requests) (2019.3.9)\n"
          ],
          "name": "stdout"
        }
      ]
    },
    {
      "metadata": {
        "id": "BQ5ezaP-3DuB",
        "colab_type": "code",
        "outputId": "d9e0919b-7057-4289-9605-cb4417b0893d",
        "colab": {
          "base_uri": "https://localhost:8080/",
          "height": 55
        }
      },
      "cell_type": "code",
      "source": [
        "import requests\n",
        "r = requests.get(url='https://newsapi.org/v2/everything?q=Modi&source=bbc-news&apiKey=b733bcf9e0944cfd9fa44cea62ec3aef')\n",
        "print(r.json())"
      ],
      "execution_count": 0,
      "outputs": [
        {
          "output_type": "stream",
          "text": [
            "{'status': 'ok', 'totalResults': 15930, 'articles': [{'source': {'id': None, 'name': 'Gizmodo.com'}, 'author': 'George Dvorsky', 'title': 'India Declares Itself a ‘Space Power’ After Shooting Down Its Own Satellite', 'description': 'In a surprise televised address to the nation, Prime Minister Narendra Modi announced India’s first successful test of an anti-satellite weapon, which the government used to destroy its own satellite. Modi said the test signifies India as a “space power,” but…', 'url': 'https://gizmodo.com/india-declares-itself-a-space-power-after-shooting-do-1833605002', 'urlToImage': 'https://i.kinja-img.com/gawker-media/image/upload/s--fVMG_eRx--/c_fill,fl_progressive,g_center,h_900,q_80,w_1600/cikwwvbaej4jz2xejrkw.jpg', 'publishedAt': '2019-03-27T15:30:00Z', 'content': 'In a surprise televised address to the nation, Prime Minister Narendra Modi announced Indias first successful test of an anti-satellite weapon, which the government used to destroy its own satellite. Modi said the test signifies India as a space power, but cr… [+6003 chars]'}, {'source': {'id': 'the-new-york-times', 'name': 'The New York Times'}, 'author': 'ALISHA HARIDASANI GUPTA', 'title': 'India, China, Ethiopian Airlines: Your Monday Briefing', 'description': 'Prime Minister Narendra Modi, who is up for re-election, in the state of Tamil Nadu last week.', 'url': 'https://www.nytimes.com/2019/03/10/briefing/india-china-ethiopian-airlines.html', 'urlToImage': 'https://static01.nyt.com/images/2019/03/11/briefing/11Briefing-asia-promo/11Briefing-asia-promo-facebookJumbo.jpg', 'publishedAt': '2019-03-10T19:03:07Z', 'content': 'Your Back Story writer gave Sel a call. In addition to projects for the History Channel, hes writing a pilot for a 10-part series based on Five Families and working with Netflix on a series about the 1986 Mafia Commission trial.\\r\\nSadly, we didnt have a photo … [+905 chars]'}, {'source': {'id': 'bbc-news', 'name': 'BBC News'}, 'author': 'https://www.facebook.com/bbcnews', 'title': 'Chandrashekhar Azad: The Indian Dalit leader challenging Modi', 'description': \"Chandrashekhar Azad has emerged as the newest political icon for India's 200 million Dalits.\", 'url': 'https://www.bbc.co.uk/news/world-asia-india-47621018', 'urlToImage': 'https://ichef.bbci.co.uk/news/1024/branded_news/FC6A/production/_106081646_csa2.jpg', 'publishedAt': '2019-03-20T00:46:13Z', 'content': 'Image caption\\r\\n Chandrashekhar Azad has emerged as the newest icon for India\\'s low-caste Dalits\\r\\nIt is hard to be heard in a country of more than a billion people. \\r\\nBut one young, charismatic man - a member of India\\'s lowest caste, the Dalits (formerly \"unto… [+6180 chars]'}, {'source': {'id': 'the-new-york-times', 'name': 'The New York Times'}, 'author': 'SUSHIL AARON', 'title': 'Why Jacinda Ardern Matters', 'description': 'New Zealand’s prime minister is emerging as the progressive antithesis to right-wing strongmen like Trump, Orban and Modi, whose careers thrive on illiberal, anti-Muslim and anti-immigrant rhetoric.', 'url': 'https://www.nytimes.com/2019/03/19/opinion/jacinda-ardern-new-zealand.html', 'urlToImage': 'https://static01.nyt.com/images/2019/03/19/opinion/19Aaron1/19Aaron1-facebookJumbo.jpg', 'publishedAt': '2019-03-19T17:23:52Z', 'content': 'Like its exceptional prime minister, New Zealand has a national culture unlike any other in Europe or the Americas. Its isolation and distance makes its distinctiveness possible, and the difference is palpable. It is a spectacularly beautiful country with a p… [+2676 chars]'}, {'source': {'id': 'the-new-york-times', 'name': 'The New York Times'}, 'author': 'JEFFREY GETTLEMAN and HARI KUMAR', 'title': 'India Shot Down a Satellite, Modi Says, Joining a Select Group of Nations', 'description': 'A successful test would make India the fourth country to have done so, after the United States, Russia and China. With elections near, Prime Minister Narendra Modi played it for maximum effect.', 'url': 'https://www.nytimes.com/2019/03/27/world/asia/india-weather-satellite-missle.html', 'urlToImage': 'https://static01.nyt.com/images/2019/03/27/world/27india-missile-1/27india-missile-1-facebookJumbo.jpg', 'publishedAt': '2019-03-27T13:13:06Z', 'content': 'Around noon, when Mr. Modi was set to address the nation, the streets of New Delhi, the capital, grew uncharacteristically quiet. Many people ducked inside shops to watch TV.\\r\\nSaurav Jha, the editor in chief of Delhi Defence Review, an online defense related … [+1490 chars]'}, {'source': {'id': 'the-new-york-times', 'name': 'The New York Times'}, 'author': 'KAI SCHULTZ and HARI KUMAR', 'title': 'India Elections Will Begin on April 11. It’s a Crucial Test for Modi.', 'description': 'Prime Minister Narendra Modi, center, in Chennai, India, in March. His image has taken a dent over slowing economic growth, but he still seems well positioned to win a second term when voters begin casting ballots on April 11.', 'url': 'https://www.nytimes.com/2019/03/10/world/asia/india-general-elections-lok-sabha.html', 'urlToImage': 'https://static01.nyt.com/images/2019/03/10/world/10India/10India-facebookJumbo.jpg', 'publishedAt': '2019-03-10T15:59:26Z', 'content': 'NEW DELHI General elections in India will begin on April 11, officials announced on Sunday, with some 900 million voters eligible to cast ballots to fill parliamentary seats and choose the next prime minister in the worlds largest democracy.\\r\\nThe elections, w… [+714 chars]'}, {'source': {'id': 'cnn', 'name': 'CNN'}, 'author': 'Euan McKirdy and Manveena Suri, CNN', 'title': \"Indian PM Modi's reputation as a strong leader put to the test\", 'description': 'As tensions between India and Pakistan escalate yet again with Delhi launching airstrikes on what it says was a terrorist training camp across its de facto border with Islamabad, all eyes are on Indian Prime Minister Narendra Modi.', 'url': 'https://www.cnn.com/2019/02/28/asia/india-modi-strong-leader-intl/index.html', 'urlToImage': 'https://cdn.cnn.com/cnnnext/dam/assets/190228071343-01-narendra-modi-0221-super-tease.jpg', 'publishedAt': '2019-02-28T17:49:21Z', 'content': None}, {'source': {'id': None, 'name': 'Hindustantimes.com'}, 'author': 'Prasun Sonwalkar', 'title': 'UK court issues warrant to arrest Nirav Modi - Hindustan Times', 'description': 'UK court issues warrant to arrest Nirav Modi Hindustan Times London court issues arrest warrant against Nirav Modi: Sources Times of India Arrest Warrant Issued Against Nirav Modi By London Court: Sources NDTV News Extradition warrant issued against Nirav Mod…', 'url': 'https://www.hindustantimes.com/world-news/uk-court-issues-warrant-to-arrest-nirav-modi/story-5QcYnEe4C78CPMCdzHm8gO.html', 'urlToImage': 'https://www.hindustantimes.com/rf/image_size_960x540/HT/p2/2019/03/13/Pictures/nirav-modi-jewellery-designer_192829bc-453f-11e9-97eb-07d4212b7ebd.jpg', 'publishedAt': '2019-03-18T15:19:00Z', 'content': 'The Westminster Magistrates Court has issued a warrant to arrest Indian diamantaire Nirav Modi, days after home secretary Sajid Javid certified India’s request to extradite him to face charges of financial irregularities running into thousands of crores of ru… [+2517 chars]'}, {'source': {'id': None, 'name': 'News18.com'}, 'author': 'News18.com', 'title': \"PM Changes Name on Twitter to 'Chowkidar Narendra Modi'; Amit Shah, Union Ministers, BJP CMs Follow Suit - News18\", 'description': \"PM Changes Name on Twitter to 'Chowkidar Narendra Modi'; Amit Shah, Union Ministers, BJP CMs Follow Suit News18 After PM Modi Releases Video, #MainBhiChowkidar Top Worldwide Trend On Twitter NDTV News As Narendra Modi thanks ‘Niirav Modi’ on Twitter, social m…\", 'url': 'https://www.news18.com/news/politics/pm-changes-name-on-twitter-to-chowkidar-narendra-modi-chowkidar-amit-shah-follows-suit-2069089.html', 'urlToImage': 'https://images.news18.com/ibnlive/uploads/2019/03/Modi-shah-chowkidar.jpg', 'publishedAt': '2019-03-17T06:32:00Z', 'content': 'New Delhi: A day after Prime Minister Narendra Modi urged supporters to take the #MainBhiChowkidar pledge against corruption, the PM changed his name on Twitter to Chowkidar, with BJP chief Amit Shah and several Union ministers following suit.Your Chowkidar i… [+2195 chars]'}, {'source': {'id': None, 'name': 'News18.com'}, 'author': 'PTI', 'title': \"Purchased, Polished and Kept in Glass Cabin, UP BJP to Bring Out 'Lucky Chair' That Made Modi PM - News18\", 'description': \"Purchased, Polished and Kept in Glass Cabin, UP BJP to Bring Out 'Lucky Chair' That Made Modi PM News18 Kissa Kursi Ka: The lucky chair that made Narendra Modi PM Times Now Kissa Kursi Ka: The 'lucky chair' that made Narendra Modi Prime Minister Economic Time…\", 'url': 'https://www.news18.com/news/politics/purchased-polished-and-kept-in-glass-cabin-up-bjp-to-bring-out-lucky-chair-that-made-modi-pm-2059541.html', 'urlToImage': 'https://images.news18.com/ibnlive/uploads/2019/03/Special-kursi-BJP-UP.jpg', 'publishedAt': '2019-03-07T11:29:27Z', 'content': 'Lucknow: Ahead of a visit by Prime Minister Narendra Modi to Kanpur, the local BJP unit has got a lucky chair all polished and spruced up for him.The Kanpur unit considers the wooden chair auspicious, and its leaders feel it will help the Bharatiya Janata Par… [+2083 chars]'}, {'source': {'id': None, 'name': 'Timesnownews.com'}, 'author': None, 'title': 'India-US ties prospered under PM Narendra Modi, says official in Trump administration - Times Now', 'description': 'India-US ties prospered under PM Narendra Modi, says official in Trump administration Times Now Relationship With India Flourished Under PM Modi, Says US Official NDTV News India-US relations flourished under PM Modi, says official in Trump administration The…', 'url': 'https://www.timesnownews.com/india/article/india-us-ties-prospered-under-pm-narendra-modi-says-official-in-trump-administration/386644', 'urlToImage': 'https://img.timesnownews.com/story/1553222306-india_us_flag_GettyImages.jpg', 'publishedAt': '2019-03-22T02:38:00Z', 'content': 'Washington: The relationship between India and the US flourished under Prime Minister Narendra Modi, an official in the Donald Trump administration has said, adding it expects the ties to improve after the Lok Sabha elections.\\r\\nThe senior official also said t… [+1781 chars]'}, {'source': {'id': None, 'name': 'Indiatoday.in'}, 'author': None, 'title': 'Vivek Oberoi reveals 9 looks from PM Narendra Modi biopic. Internet has best jokes and memes - India Today', 'description': 'Vivek Oberoi reveals 9 looks from PM Narendra Modi biopic. Internet has best jokes and memes India Today PM Narendra Modi biopic: Vivek Oberoi to sport nine different looks Free Press Journal PM Narendra Modi: Check Out Vivek Anand Oberoi’s Nine Different Ava…', 'url': 'https://www.indiatoday.in/trending-news/story/vivek-oberoi-reveals-9-looks-from-pm-narendra-modi-biopic-internet-has-best-jokes-and-memes-1480951-2019-03-18', 'urlToImage': 'https://akm-img-a-in.tosshub.com/indiatoday/images/story/201903/vivek_oberoi_1-647x363.jpeg?PkiGGdxy_OyNpDg9zAlNW_ZJczP.XuAL', 'publishedAt': '2019-03-18T11:21:00Z', 'content': \"PM Narendra Modi's biopic is all set to release on April 12, 2019, and the audience cannot wait to see the film on the big screen.\\r\\nPeople were not really happy when news broke that India's Prime Minister -- now Chowkidar -- Narendra Modi's character will be … [+2516 chars]\"}, {'source': {'id': None, 'name': 'Thewire.in'}, 'author': None, 'title': \"Release of 'PM Narendra Modi' Doesn't Violate Model Code of Conduct, Say Ex EC Chiefs - The Wire\", 'description': \"Release of 'PM Narendra Modi' Doesn't Violate Model Code of Conduct, Say Ex EC Chiefs The Wire PM Modi Biopic: Suresh Oberoi Joins the Cast of Vivek Oberoi-starrer, Will Play This Role News18 I respect bhakts and critics of Narendra Modi: Vivek Oberoi The Ind…\", 'url': 'https://thewire.in/film/release-of-pm-narendra-modi-does-not-violate-model-code-of-conduct-say-ex-ec-chiefs', 'urlToImage': 'https://cdn.thewire.in/wp-content/uploads/2019/03/20121527/49698454_367727133788187_2839403154263506944_o-800x400.jpg', 'publishedAt': '2019-03-20T00:55:00Z', 'content': 'New Delhi: The announcement that the release of the Vivek Oberoi-starrer biopic drama on Prime Minister Narendra Modi has been brought forward by a week, to April 5, has raised many eyebrows. The film will now be released before the first phase of voting for … [+6843 chars]'}, {'source': {'id': None, 'name': 'Scroll.in'}, 'author': 'Ipsita Chakravarty', 'title': 'The Daily Fix: By attacking ‘internal enemies’, Modi government is channeling repressive regimes - Scroll.in', 'description': \"The Daily Fix: By attacking ‘internal enemies’, Modi government is channeling repressive regimes Scroll.in PM Narendra Modi's dyslexia remarks upset parents Times of India Opposition trying to remove me; I am trying to remove terrorism, poverty: PM Modi Money…\", 'url': 'https://scroll.in/article/915520/the-daily-fix-by-attacking-internal-enemies-modi-government-is-channeling-repressive-regimes', 'urlToImage': 'https://s01.sgp1.cdn.digitaloceanspaces.com/book/114561-axncsfgdlj-1551802273.jpg', 'publishedAt': '2019-03-06T04:00:00Z', 'content': 'Early in this governments tenure, the Bharatiya Janata Party and its ideologues discovered anti-nationals, those who dared speak out against the policies of the ruling dispensation. Then, the government found the urban naxal, also known as the half-Maoist, li… [+3877 chars]'}, {'source': {'id': None, 'name': 'Hindustantimes.com'}, 'author': 'HT\\u2009Correspondent', 'title': 'Aware Nirav Modi is in London, have asked UK to extradite him: Govt - Hindustan Times', 'description': \"Aware Nirav Modi is in London, have asked UK to extradite him: Govt Hindustan Times Nirav Modi tracked down to £8 million flat in London's West End Times of India Nirav Modi spotted in London, reportedly conducts business as usual The Indian Express ED workin…\", 'url': 'https://www.hindustantimes.com/india-news/aware-nirav-modi-is-in-london-have-asked-uk-to-extradite-him-govt/story-ND2AwtZcl0qj9bFkWP6N4O.html', 'urlToImage': 'https://www.hindustantimes.com/rf/image_size_960x540/HT/p2/2019/03/09/Pictures/cafe_fb61411a-4233-11e9-96e6-2d3dd9dcb23f.jpg', 'publishedAt': '2019-03-09T06:36:00Z', 'content': 'The External affairs ministry on Saturday stated that the government is aware of the fact that PNB scam accused Nirav Modi is in London and that it has already placed a request with the UK government for the diamantaire’s extradition.\\r\\n“All necessary steps ar… [+1240 chars]'}, {'source': {'id': None, 'name': 'Indianexpress.com'}, 'author': None, 'title': 'Nirav Modi arrested, Samjhauta Express blast case and Special Olympics - The Indian Express', 'description': \"Nirav Modi arrested, Samjhauta Express blast case and Special Olympics The Indian Express Nirav Modi's Arrest in London Brings Cheer on Social Media News18 PNB scam: Nirav Modi arrested in London, remanded in custody till March 29 Times of India A Year After …\", 'url': 'https://indianexpress.com/audio/3-things/nirav-modi-arrested-samjhauta-express-blast-case-and-special-olympics/5636689/', 'urlToImage': 'https://images.indianexpress.com/2019/03/1080x607-1.jpg', 'publishedAt': '2019-03-21T02:00:53Z', 'content': 'Yesterday, the Scotyard Yard police arrested Nirav Modi and later in the day he appeared before a London court. This move has come after the Enforcement Directorate requested for his extradition. Deeptiman Tiwary, who reports on government agencies and corrup… [+1624 chars]'}, {'source': {'id': None, 'name': 'Thewire.in'}, 'author': None, 'title': 'Allies Skip Modi’s #MainBhiChowkidar Campaign, Sushma Last Big Minister to Join - The Wire', 'description': \"Allies Skip Modi’s #MainBhiChowkidar Campaign, Sushma Last Big Minister to Join The Wire As Narendra Modi thanks ‘Niirav Modi’ on Twitter, social media breaks into laughter Scroll.in PM changes name on Twitter to 'Chowkidar Narendra Modi', other BJP leaders f…\", 'url': 'https://thewire.in/politics/nda-allies-give-modis-mainbhichowkidar-campaign-a-skip', 'urlToImage': 'https://cdn.thewire.in/wp-content/uploads/2019/03/17181311/collage2-800x400.png', 'publishedAt': '2019-03-17T13:12:49Z', 'content': 'New Delhi:\\xa0Almost all the NDA alliance partners of the BJP have given Prime Minister Narendra Modis #MainBhiChowkidar hashtag campaign a skip.\\r\\nUnlike most BJP leaders and union ministers, they have not joined his campaign by prefixing their names on Twitter … [+4213 chars]'}, {'source': {'id': None, 'name': 'Scroll.in'}, 'author': 'Scroll Staff', 'title': \"'Main bhi chowkidar': Priyanka Gandhi takes a jibe at BJP, Narendra Modi - Scroll.in\", 'description': \"'Main bhi chowkidar': Priyanka Gandhi takes a jibe at BJP, Narendra Modi Scroll.in ‘After getting caught PM Modi wants to turn everyone into chowkidar’: Rahul Gandhi Hindustan Times PM changes title of his Twitter account to ‘Chowkidar Narendra Modi’ The News…\", 'url': 'https://scroll.in/latest/917064/only-the-rich-have-chowkidar-priyanka-gandhi-on-bjps-campaign', 'urlToImage': 'https://s01.sgp1.cdn.digitaloceanspaces.com/book/115046-ppkfmscaza-1552389537.jpg', 'publishedAt': '2019-03-18T12:39:31Z', 'content': 'Congress General Secretary Priyanka Gandhi Vadra on Monday took a jibe at Prime Minister Narendra Modis decision to add chowkidar (watchman) to his Twitter handle. She said a farmer had told her that only the rich have a security guard or watchman.\\r\\nModi laun… [+2785 chars]'}, {'source': {'id': None, 'name': 'News18.com'}, 'author': 'News18.com', 'title': \"Congress Turns 'Munna Bhai' This Poll Season, But Isn't Ready to Spare Hugs Without a 'Boast' - News18\", 'description': \"Congress Turns 'Munna Bhai' This Poll Season, But Isn't Ready to Spare Hugs Without a 'Boast' News18 As Narendra Modi thanks ‘Niirav Modi’ on Twitter, social media breaks into laughter Scroll.in After PM Modi Releases Video, #MainBhiChowkidar Top Worldwide Tr…\", 'url': 'https://www.news18.com/news/india/congress-turns-munna-bhai-this-poll-season-but-isnt-ready-to-spare-hugs-without-a-boast-2069071.html', 'urlToImage': 'https://images.news18.com/ibnlive/uploads/2018/07/Rahul-Gandhi-hugs-Prime-Minister-Narendra-Modi.jpg', 'publishedAt': '2019-03-17T09:45:00Z', 'content': 'New Delhi: As Prime Minister Narendra Modi launched the #MainBhiChowkidar (I too am a watchman) campaign on Saturday, it became a source of a fresh political tussle between the Bharatiya Janata Party and the Congress. However, it ended with love and hugs.It a… [+3284 chars]'}, {'source': {'id': None, 'name': 'Deccanherald.com'}, 'author': 'Press Trust of India', 'title': \"'PM Narendra Modi' to now release on April 5 - Deccan Herald\", 'description': '\\'PM Narendra Modi\\' to now release on April 5 Deccan Herald Is the ‘PM Narendra Modi’ biopic funded by the opposition? DailyO \"PM Narendra Modi\\'s\" Release Moved Ahead, Vivek Oberoi Tweets 2nd Poster NDTV News Vivek Oberoi\\'s \\'PM Narendra Modi\\' to release on 5th…', 'url': 'https://www.deccanherald.com/entertainment/entertainment-news/pm-narendra-modi-to-now-release-on-april-5-724008.html', 'urlToImage': 'https://www.deccanherald.com/sites/dh/files/article_images/2019/03/19/file73j9vxytpftafcx2hlo-1552990361.jpg', 'publishedAt': '2019-03-19T10:11:01Z', 'content': 'The release of Vivek Oberoi-starrer biographical drama on Prime Minister Narendra Modi has been preponed by a week and the film will now open on April 5, the makers announced Tuesday.\\r\\n\"PM Narendra Modi\" was earlier scheduled to hit the theatres on April 12.\\r… [+846 chars]'}]}\n"
          ],
          "name": "stdout"
        }
      ]
    },
    {
      "metadata": {
        "id": "62_oQGA34NPn",
        "colab_type": "code",
        "outputId": "2f32426a-9ba0-4a78-95e9-cdd11984a6c0",
        "colab": {
          "base_uri": "https://localhost:8080/",
          "height": 35
        }
      },
      "cell_type": "code",
      "source": [
        "print(r.json()['articles'][0]['source']['name'])"
      ],
      "execution_count": 0,
      "outputs": [
        {
          "output_type": "stream",
          "text": [
            "Gizmodo.com\n"
          ],
          "name": "stdout"
        }
      ]
    },
    {
      "metadata": {
        "id": "4cI1Jnjd8Nsk",
        "colab_type": "code",
        "outputId": "1f1e8a36-b343-487d-d95f-b8f90ade8bc6",
        "colab": {
          "base_uri": "https://localhost:8080/",
          "height": 55
        }
      },
      "cell_type": "code",
      "source": [
        "news_filter = []\n",
        "for i in range(0,20):\n",
        "  if r.json()['articles'][i]['source']['name']==\"CNN\":\n",
        "    news_filter.append(r.json()['articles'][i])\n",
        "print(news_filter)"
      ],
      "execution_count": 0,
      "outputs": [
        {
          "output_type": "stream",
          "text": [
            "[{'source': {'id': 'cnn', 'name': 'CNN'}, 'author': 'Euan McKirdy and Manveena Suri, CNN', 'title': \"Indian PM Modi's reputation as a strong leader put to the test\", 'description': 'As tensions between India and Pakistan escalate yet again with Delhi launching airstrikes on what it says was a terrorist training camp across its de facto border with Islamabad, all eyes are on Indian Prime Minister Narendra Modi.', 'url': 'https://www.cnn.com/2019/02/28/asia/india-modi-strong-leader-intl/index.html', 'urlToImage': 'https://cdn.cnn.com/cnnnext/dam/assets/190228071343-01-narendra-modi-0221-super-tease.jpg', 'publishedAt': '2019-02-28T17:49:21Z', 'content': None}]\n"
          ],
          "name": "stdout"
        }
      ]
    },
    {
      "metadata": {
        "id": "wPcOxYIY9otd",
        "colab_type": "code",
        "outputId": "a6ce1854-c5aa-4901-8647-9ec7267e0e46",
        "colab": {
          "base_uri": "https://localhost:8080/",
          "height": 74
        }
      },
      "cell_type": "code",
      "source": [
        "d=\"news18.com\"\n",
        "q=\"Modi\"\n",
        "url_new= 'https://newsapi.org/v2/everything?domains='+d+'&q='+q+'&apiKey=b733bcf9e0944cfd9fa44cea62ec3aef'\n",
        "print(url_new)\n",
        "import requests\n",
        "r = requests.get(url=url_new)\n",
        "print(r.json())"
      ],
      "execution_count": 66,
      "outputs": [
        {
          "output_type": "stream",
          "text": [
            "https://newsapi.org/v2/everything?domains=news18.com&q=Modi&apiKey=b733bcf9e0944cfd9fa44cea62ec3aef\n",
            "{'status': 'ok', 'totalResults': 507, 'articles': [{'source': {'id': None, 'name': 'News18.com'}, 'author': 'News18.com', 'title': \"PM Changes Name on Twitter to 'Chowkidar Narendra Modi'; Amit Shah, Union Ministers, BJP CMs Follow Suit - News18\", 'description': \"PM Changes Name on Twitter to 'Chowkidar Narendra Modi'; Amit Shah, Union Ministers, BJP CMs Follow Suit News18 After PM Modi Releases Video, #MainBhiChowkidar Top Worldwide Trend On Twitter NDTV News As Narendra Modi thanks ‘Niirav Modi’ on Twitter, social m…\", 'url': 'https://www.news18.com/news/politics/pm-changes-name-on-twitter-to-chowkidar-narendra-modi-chowkidar-amit-shah-follows-suit-2069089.html', 'urlToImage': 'https://images.news18.com/ibnlive/uploads/2019/03/Modi-shah-chowkidar.jpg', 'publishedAt': '2019-03-17T06:32:00Z', 'content': 'New Delhi: A day after Prime Minister Narendra Modi urged supporters to take the #MainBhiChowkidar pledge against corruption, the PM changed his name on Twitter to Chowkidar, with BJP chief Amit Shah and several Union ministers following suit.Your Chowkidar i… [+2195 chars]'}, {'source': {'id': None, 'name': 'News18.com'}, 'author': 'PTI', 'title': \"Purchased, Polished and Kept in Glass Cabin, UP BJP to Bring Out 'Lucky Chair' That Made Modi PM - News18\", 'description': \"Purchased, Polished and Kept in Glass Cabin, UP BJP to Bring Out 'Lucky Chair' That Made Modi PM News18 Kissa Kursi Ka: The lucky chair that made Narendra Modi PM Times Now Kissa Kursi Ka: The 'lucky chair' that made Narendra Modi Prime Minister Economic Time…\", 'url': 'https://www.news18.com/news/politics/purchased-polished-and-kept-in-glass-cabin-up-bjp-to-bring-out-lucky-chair-that-made-modi-pm-2059541.html', 'urlToImage': 'https://images.news18.com/ibnlive/uploads/2019/03/Special-kursi-BJP-UP.jpg', 'publishedAt': '2019-03-07T11:29:27Z', 'content': 'Lucknow: Ahead of a visit by Prime Minister Narendra Modi to Kanpur, the local BJP unit has got a lucky chair all polished and spruced up for him.The Kanpur unit considers the wooden chair auspicious, and its leaders feel it will help the Bharatiya Janata Par… [+2083 chars]'}, {'source': {'id': None, 'name': 'News18.com'}, 'author': 'News18.com', 'title': \"Congress Turns 'Munna Bhai' This Poll Season, But Isn't Ready to Spare Hugs Without a 'Boast' - News18\", 'description': \"Congress Turns 'Munna Bhai' This Poll Season, But Isn't Ready to Spare Hugs Without a 'Boast' News18 As Narendra Modi thanks ‘Niirav Modi’ on Twitter, social media breaks into laughter Scroll.in After PM Modi Releases Video, #MainBhiChowkidar Top Worldwide Tr…\", 'url': 'https://www.news18.com/news/india/congress-turns-munna-bhai-this-poll-season-but-isnt-ready-to-spare-hugs-without-a-boast-2069071.html', 'urlToImage': 'https://images.news18.com/ibnlive/uploads/2018/07/Rahul-Gandhi-hugs-Prime-Minister-Narendra-Modi.jpg', 'publishedAt': '2019-03-17T09:45:00Z', 'content': 'New Delhi: As Prime Minister Narendra Modi launched the #MainBhiChowkidar (I too am a watchman) campaign on Saturday, it became a source of a fresh political tussle between the Bharatiya Janata Party and the Congress. However, it ended with love and hugs.It a… [+3284 chars]'}, {'source': {'id': None, 'name': 'News18.com'}, 'author': 'Raka Mukherjee', 'title': \"PM Narendra Modi's Biopic Trailer Starring Vivek Oberoi Has Sparked a Meme-Fest Online - News18\", 'description': \"PM Narendra Modi's Biopic Trailer Starring Vivek Oberoi Has Sparked a Meme-Fest Online News18 India-US relationship flourished under PM Narendra Modi, says Trump administration Zee News Ban Narendra Modi biopic, DMK tells Election Commission The Hindu Relatio…\", 'url': 'https://www.news18.com/news/buzz/pm-narendra-modis-biopic-trailer-has-sparked-a-meme-fest-online-2074231.html', 'urlToImage': 'https://images.news18.com/ibnlive/uploads/2019/03/Untitled-design-133.png', 'publishedAt': '2019-03-22T03:21:00Z', 'content': 'The trailer for Prime Minister Narendra Modis biopic starring Vivek Oberoi in the lead role was released on March 20.The film, which portrays all the different phases of PM Modis life, is set to hit the screens on April 5, ahead of the 2019 Lok Sabha election… [+1629 chars]'}, {'source': {'id': None, 'name': 'News18.com'}, 'author': 'News18.com', 'title': \"'Pak is Still Counting Bodies': With Balakot Example, PM Modi Asks Odisha to Elect Govt That Delivers - News18\", 'description': '\\'Pak is Still Counting Bodies\\': With Balakot Example, PM Modi Asks Odisha to Elect Govt That Delivers News18 \"Pak Still Counting Bodies, And They (Opposition) Ask For Proof,\" Says PM NDTV News ‘Pakistan still counting dead bodies, rivals seeking proof’: PM Mo…', 'url': 'https://www.news18.com/news/india/nda-has-taken-measures-for-chowkidari-in-space-says-pm-modi-in-odisha-2081765.html', 'urlToImage': 'https://images.news18.com/ibnlive/uploads/2019/03/PM-Narendra-Modi-31.jpg', 'publishedAt': '2019-03-29T07:49:00Z', 'content': \"Bhubaneswar: Prime Minister Narendra Modi on Friday said his government had taken measures to set up a 'chowkidar' in space and asked people to vote for a government that can take concrete decisions and not just raise slogans.PM Modi was referring to Mission … [+1350 chars]\"}, {'source': {'id': None, 'name': 'News18.com'}, 'author': 'News18.com', 'title': \"Imran Khan Was in Lahore to Ensure 'Smooth' Handing Over of IAF Pilot Abhinandan: Report - News18\", 'description': 'Imran Khan Was in Lahore to Ensure \\'Smooth\\' Handing Over of IAF Pilot Abhinandan: Report News18 \"New India Will Return Damage Done By Terrorists With Interest\": PM Modi NDTV News Imran Khan Tried To Contact PM Modi Thrice, But Received No Positive Response Ou…', 'url': 'https://www.news18.com/news/india/imran-khan-was-in-lahore-to-ensure-smooth-handing-over-of-iaf-pilot-abhinandan-report-2053041.html', 'urlToImage': 'https://images.news18.com/ibnlive/uploads/2019/02/imran-khan1.jpg', 'publishedAt': '2019-03-02T01:45:35Z', 'content': \"Lahore: Pakistan Prime Minister Imran Khan was present in Lahore to oversee the 'smooth' handing over of captured Indian Air Force Wing Commander Abhinandan Varthaman to India at the Wagah border on Friday, official sources said.Khan arrived in Lahore on Frid… [+1315 chars]\"}, {'source': {'id': None, 'name': 'News18.com'}, 'author': None, 'title': 'Modi Faces Twitterati Ire as He Mocks Dyslexics in Attempt to Target Rahul, Sonia Gandhi\\u200b - News18', 'description': 'Modi Faces Twitterati Ire as He Mocks Dyslexics in Attempt to Target Rahul, Sonia Gandhi\\u200b News18 Rafale jets could have delivered better results: PM Modi Times of India Forces will soon use ‘Made in Amethi’ rifles, says PM Modi; attacks Rahul for ridiculing M…', 'url': 'https://www.news18.com/news/india/modi-faces-twitterati-ire-as-he-mocks-dyslexics-in-attempt-to-target-rahul-sonia-gandhi%E2%80%8B-2054277.html', 'urlToImage': None, 'publishedAt': '2019-03-03T18:14:00Z', 'content': None}, {'source': {'id': None, 'name': 'News18.com'}, 'author': 'PTI', 'title': \"Congress Leader Alleges 'Match-fixing' Between PM Modi and Imran Khan Over Pulwama Attack - News18\", 'description': \"Congress Leader Alleges 'Match-fixing' Between PM Modi and Imran Khan Over Pulwama Attack News18 Modi govt can detect 2 kg of beef, not 350 kg of RDX: Congress leader Hariprasad The Indian Express Congress leader alleges 'match-fixing' over Pulwama; BJP conde…\", 'url': 'https://www.news18.com/news/politics/congress-leader-bk-hariprasad-alleges-match-fixing-between-pm-modi-and-pakistan-over-pulwama-terror-attack-2059777.html', 'urlToImage': 'https://images.news18.com/ibnlive/uploads/2017/03/BK-Hariprasad.jpg', 'publishedAt': '2019-03-07T15:32:00Z', 'content': 'New Delhi: Sparking a major row, senior Congress leader B K Hariprasad Thursday alleged there was a \"match fixing\" between Prime Minister Narendra Modi and his Pakistani counterpart Imran Khan on the Pulwama terror attack.\"There is a match fixing between Nare… [+2401 chars]'}, {'source': {'id': None, 'name': 'News18.com'}, 'author': 'News18.com', 'title': 'BJP May Emerge as Single Largest Party Post Lok Sabha Polls, But 2nd Term For Modi Unlikely: Sharad Pawar - News18', 'description': 'BJP May Emerge as Single Largest Party Post Lok Sabha Polls, But 2nd Term For Modi Unlikely: Sharad Pawar News18 BJP may win most seats, but second term for Modi unlikely: Sharad Pawar Times of India ‘BJP may win most seats, but 2nd term for Modi unlikely’: S…', 'url': 'https://www.news18.com/news/politics/bjp-may-emerge-as-single-largest-party-post-lok-sabha-polls-but-2nd-term-for-modi-unlikely-pawar-2064825.html', 'urlToImage': 'https://images.news18.com/ibnlive/uploads/2019/03/PM-Narendra-Modi-F.jpg', 'publishedAt': '2019-03-12T17:53:00Z', 'content': 'New Delhi: NCP chief Sharad Pawar, who announced on Monday that he wont contest again, in a pre-poll prediction said that the BJP will emerge as the single largest party in the Lok Sabha polls. However, he stopped short of giving Prime Minister Narendra Modi … [+3318 chars]'}, {'source': {'id': None, 'name': 'News18.com'}, 'author': 'News18.com', 'title': 'Amid Cross-border Tensions, PM Modi Hints at More Action Following Aerial Strike in Pakistan - News18', 'description': 'Amid Cross-border Tensions, PM Modi Hints at More Action Following Aerial Strike in Pakistan News18 \"You Lied Again\": Rahul Gandhi On PM Modi\\'s \"Made In Amethi\" Swipe NDTV News PM Modi indicates more action to follow air strike in Pakistan Times of India PM M…', 'url': 'https://www.news18.com/news/politics/amid-cross-border-tensions-pm-modi-hints-at-more-action-following-aerial-strike-in-pakistan-2055463.html', 'urlToImage': 'https://images.news18.com/ibnlive/uploads/2019/03/Untitled-design1.png', 'publishedAt': '2019-03-04T16:47:41Z', 'content': 'Ahmedabad: Reiterating his tough stand against terror, Prime Minister Narendra Modi on Monday said last weeks air strike in Pakistan wont be Indias last such action against terrorism emanating from the neighbouring country.Addressing a gathering here, Modi sa… [+2250 chars]'}, {'source': {'id': None, 'name': 'News18.com'}, 'author': 'PTI', 'title': 'Enough is Enough, We Cannot Keep Suffering Till Eternity, Says PM in Address to CISF Jawans - News18', 'description': 'Enough is Enough, We Cannot Keep Suffering Till Eternity, Says PM in Address to CISF Jawans News18 Enough is enough, we cannot keep suffering till eternity: PM Modi Times of India Enough is enough, we cannot keep suffering till eternity, says Prime Minister N…', 'url': 'https://www.news18.com/news/india/enough-is-enough-we-cannot-keep-suffering-till-eternity-pm-in-address-to-cisf-jawans-2062243.html', 'urlToImage': 'https://images.news18.com/ibnlive/uploads/2019/03/Modi-CISF.jpg', 'publishedAt': '2019-03-10T09:15:15Z', 'content': 'Ghaziabad: Prime Minister Narendra Modi Sunday issued a stern warning to terrorist forces targeting India, saying the country cannot keep suffering forever.\"Enough is enough,\" he said while referring to the terror attacks in Pulwama and Uri. \"We cannot keep s… [+3548 chars]'}, {'source': {'id': None, 'name': 'News18.com'}, 'author': 'PTI', 'title': 'Nirav Modi Extradition: CBI Team Likely to Leave for London Today for Hearing - News18', 'description': \"Nirav Modi Extradition: CBI Team Likely to Leave for London Today for Hearing News18 Ahead of Nirav Modi Bail Hearing, Joint Probe Team To Leave For UK NDTV News Nirav Modi's painting collection fetches Rs 54.84 crores for Income tax department Times Now Nira…\", 'url': 'https://www.news18.com/news/india/nirav-modi-extradition-cbi-team-likely-to-leave-for-london-today-for-hearing-2079413.html', 'urlToImage': 'https://images.news18.com/ibnlive/uploads/2019/03/nirav-modi.jpg', 'publishedAt': '2019-03-27T07:17:54Z', 'content': 'New Delhi: A CBI team is likely to leave for London to assist local authorities in the extradition case of fugitive diamantaire Nirav Modi whose bail plea will come for hearing before a court there on Friday, officials said.A Joint Director-level officer has … [+1701 chars]'}, {'source': {'id': None, 'name': 'News18.com'}, 'author': 'PTI', 'title': \"'Country is Not in Safe Hands': Mayawati Slams PM Modi Days After His Assurance - News18\", 'description': '\\'Country is Not in Safe Hands\\': Mayawati Slams PM Modi Days After His Assurance News18 PM Modi \"Hiding Failures\" Behind Terror Attacks, Alleges Mayawati NDTV News Ahead of party meet, Mayawati invokes Indo-Pak situation to attack PM Modi, BJP Hindustan Times …', 'url': 'https://www.news18.com/news/politics/country-is-not-in-safe-hands-mayawati-slams-pm-modi-days-after-his-assurance-2054191.html', 'urlToImage': 'https://images.news18.com/ibnlive/uploads/2018/07/mayawati_1807jpg.jpg', 'publishedAt': '2019-03-03T14:49:00Z', 'content': 'Lucknow: Bahujan Samaj Party president Mayawati on Sunday accused the BJP of indulging in \"petty\" politics after the Pulwama terror attack and claimed people feel that the country\\'s honour and security are not in safe hands.Mayawati also paid tributes to secu… [+2157 chars]'}, {'source': {'id': None, 'name': 'News18.com'}, 'author': 'News18.com', 'title': 'Day After Nirav Modi Was Spotted in London, ED Says UK Govt Has Approved His Extradition Request - News18', 'description': \"Day After Nirav Modi Was Spotted in London, ED Says UK Govt Has Approved His Extradition Request News18 CBI to ask Interpol, Britain for Nirav Modi's immediate arrest Indiatimes.com Nirav Modi arrest warrant could be a matter of weeks The Financial Express £8…\", 'url': 'https://www.news18.com/news/india/day-after-nirav-modi-was-spotted-in-london-ed-says-uk-govt-has-approved-his-extradition-request-2062099.html', 'urlToImage': 'https://images.news18.com/ibnlive/uploads/2019/03/nirav-modi.jpg', 'publishedAt': '2019-03-10T05:23:00Z', 'content': 'New Delhi: A Day after UK-based The Telegraph tracked down Nirav Modi in Londons West End, Enforcement Directorate (ED) on Saturday said that the UK government has forwarded its extradition request to a designated court for further proceeding.Modi is accused … [+1614 chars]'}, {'source': {'id': None, 'name': 'News18.com'}, 'author': 'PTI', 'title': \"Washing Workers' Feet no Political Gimmick but 'Sanskar': Narendra Modi - News18\", 'description': 'Washing Workers\\' Feet no Political Gimmick but \\'Sanskar\\': Narendra Modi News18 \"Even BJP Supporters Are Ashamed\": Akhilesh Yadav On PM\\'s Video-Con NDTV News Washing workers\\' feet no political gimmick but \\'sanskar\\':PM Narendra Modi Times of India PM Modi’s ‘Re…', 'url': 'https://www.news18.com/news/politics/washing-workers-feet-no-political-gimmick-but-sanskar-narendra-modi-2051671.html', 'urlToImage': 'https://images.news18.com/ibnlive/uploads/2019/02/modi_honours_sanitation_workers.jpg', 'publishedAt': '2019-02-28T11:59:00Z', 'content': \"Mumbai: Prime Minister Narendra Modi on Thursday said his act of washing the feet of sanitation workers in Allahabad recently was not intended for political gains, but an outcome of his 'sanskar' (values).He was responding to a question by a BJP corporator fr… [+1639 chars]\"}, {'source': {'id': None, 'name': 'News18.com'}, 'author': 'News18.com', 'title': \"Here's Everything You Wanted to Know About Nirav Modi's Ostrich Hide Jacket Worth Rs 8 Lakh - News18\", 'description': \"Here's Everything You Wanted to Know About Nirav Modi's Ostrich Hide Jacket Worth Rs 8 Lakh News18 Nirav Modi tracked down to £8 million flat in London's West End Times of India Watch: Fugitive Nirav Modi spotted in London, reportedly conducts business as usu…\", 'url': 'https://www.news18.com/news/lifestyle/heres-everything-you-wanted-to-know-about-nirav-modis-ostrich-hide-jacket-worth-rs-8-lakh-2061287.html', 'urlToImage': 'https://images.news18.com/ibnlive/uploads/2019/03/nirav-modi.jpg', 'publishedAt': '2019-03-09T06:46:23Z', 'content': \"Fugitive diamantaire Nirav Modi, who is wanted by the Indian agencies in the Rs 13,500 crore Punjab National Bank fraud case, has been spotted in London. A video released by UK's The Telegraph newspaper showed Nirav Modi walking on the London streets. He has … [+2944 chars]\"}, {'source': {'id': None, 'name': 'News18.com'}, 'author': 'Amitabh Sinha', 'title': 'Opposition Has Become Pakistan’s Weapon, Repeats What the Imran Khan Govt Says: Arun Jaitley - News18', 'description': 'Opposition Has Become Pakistan’s Weapon, Repeats What the Imran Khan Govt Says: Arun Jaitley News18 \"Modi Hai To Mumkin Hai\\'\\' BJP Slogan For 2019 Election: Arun Jaitley NDTV News What India achieved in five years — Arun Jaitley explains seeking second term fo…', 'url': 'https://www.news18.com/news/politics/opposition-has-become-pakistans-weapon-repeats-what-the-imran-khan-govt-says-arun-jaitley-2066817.html', 'urlToImage': 'https://images.news18.com/ibnlive/uploads/2019/03/abt-arun-jaitley-on-china.transfer.Sub_.01.jpg', 'publishedAt': '2019-03-14T12:04:11Z', 'content': 'New Delhi: Those who stood against Prime Minister Narendra Modi in the aftermath of the Balakot airstrike had become weapons in Pakistans hands, Union Minister Arun Jaitley said in an exclusive interview with News18 on Thursday.Slamming the Opposition for rai… [+3565 chars]'}, {'source': {'id': None, 'name': 'News18.com'}, 'author': 'PTI', 'title': 'PM Narendra Modi Producer Sandip Ssingh Responds to Javed Akhtar Credit Row - News18', 'description': \"PM Narendra Modi Producer Sandip Ssingh Responds to Javed Akhtar Credit Row News18 A day after Javed Akhtar expressed shock over the mention of his name in the credits of 'PM Narendra Modi' trailer, producer Sandip Ssingh clarified the credits. View full cove…\", 'url': 'https://www.news18.com/news/movies/pm-narendra-modi-producer-sandip-ssingh-responds-to-javed-akhtar-credit-row-2075559.html', 'urlToImage': 'https://images.news18.com/ibnlive/uploads/2019/03/Javed-Akhtar-PM-Modi-biopic.jpg', 'publishedAt': '2019-03-23T09:17:00Z', 'content': \"A day after Javed Akhtar expressed shock over the mention of his name in the credits of 'PM Narendra Modi' trailer, producer Sandip Ssingh clarified that the team has used an old song penned by the veteran lyricist in the film.The 74-year-old writer's name wa… [+988 chars]\"}, {'source': {'id': None, 'name': 'News18.com'}, 'author': 'News18 Staff', 'title': 'Patna Sankalp Rally LIVE: PM Modi Pays Tribute to CRPF Men Killed in Pulwama, Says Nation Stands With Jawans - News18', 'description': 'Patna Sankalp Rally LIVE Updates: Sounding the poll bugle for the Lok Sabha elections in Bihar, Prime Minister Narendra Modi and Bihar chief minister Nitish Kumar shared the dais at a mega rally, dubbed the ‘Sankalp Rally’ at Patna’s Gandhi Maidan on Sunday. …', 'url': 'https://www.news18.com/news/politics/patna-sankalp-rally-live-competition-underway-to-abuse-chowkidar-but-hes-alert-as-ever-says-pm-modi-2053767.html', 'urlToImage': 'https://images.news18.com/ibnlive/uploads/2019/03/modi-ji.jpg', 'publishedAt': '2019-03-03T07:49:29Z', 'content': 'The rally, which also features LJP chief Ram Vilas Paswan, is reportedly an effort to show full faith and confidence in the Prime Minister for handling the post-Pulwama crisis, which culminated in Indias non-military air strikes on Pakistans Balakot to demoli… [+2606 chars]'}, {'source': {'id': None, 'name': 'News18.com'}, 'author': 'News18.com', 'title': 'PM Modi Inaugurates Civilian Terminal at Hindon Air Force Base, Delhi Metro Red Line Extension - News18', 'description': 'PM Modi Inaugurates Civilian Terminal at Hindon Air Force Base, Delhi Metro Red Line Extension News18 Delhi Metro Red Line: Dilshad Garden-New Bus Adda, Ghaziabad section flagged off by PM Modi; 10 facts The Financial Express PM to inaugurate Delhi metro’s Re…', 'url': 'https://www.news18.com/news/india/pm-modi-inaugurates-civilian-terminal-at-hindon-air-force-base-delhi-metro-red-line-extension-2060791.html', 'urlToImage': 'https://images.news18.com/ibnlive/uploads/2019/03/red-line-metro.jpg', 'publishedAt': '2019-03-08T12:57:27Z', 'content': 'New Delhi: Prime Minister Narendra Modi inaugurated the civil terminal at the Hindon Air Force Base on Friday.The terminal, which will connect Hindon to Gulbarga, Nashik, Hubali, Shimla, Pithoragarh, Jamnagar, Kannur and Faizabad from May, is aimed at benefit… [+1114 chars]'}]}\n"
          ],
          "name": "stdout"
        }
      ]
    },
    {
      "metadata": {
        "id": "QpdtwEYV3QKV",
        "colab_type": "code",
        "outputId": "1a3c9251-733a-4b55-c20e-a3c8476e7f16",
        "colab": {
          "base_uri": "https://localhost:8080/",
          "height": 92
        }
      },
      "cell_type": "code",
      "source": [
        "!pip install -U textblob"
      ],
      "execution_count": 67,
      "outputs": [
        {
          "output_type": "stream",
          "text": [
            "Requirement already up-to-date: textblob in /usr/local/lib/python3.6/dist-packages (0.15.3)\n",
            "Requirement already satisfied, skipping upgrade: nltk>=3.1 in /usr/local/lib/python3.6/dist-packages (from textblob) (3.4)\n",
            "Requirement already satisfied, skipping upgrade: six in /usr/local/lib/python3.6/dist-packages (from nltk>=3.1->textblob) (1.11.0)\n",
            "Requirement already satisfied, skipping upgrade: singledispatch in /usr/local/lib/python3.6/dist-packages (from nltk>=3.1->textblob) (3.4.0.3)\n"
          ],
          "name": "stdout"
        }
      ]
    },
    {
      "metadata": {
        "id": "yZ6bi9lckZQ6",
        "colab_type": "code",
        "outputId": "ec2a16a5-62fa-4439-a96a-c071c4e66fdd",
        "colab": {
          "base_uri": "https://localhost:8080/",
          "height": 300
        }
      },
      "cell_type": "code",
      "source": [
        "!python3 -m textblob.download_corpora"
      ],
      "execution_count": 68,
      "outputs": [
        {
          "output_type": "stream",
          "text": [
            "[nltk_data] Downloading package brown to /root/nltk_data...\n",
            "[nltk_data]   Package brown is already up-to-date!\n",
            "[nltk_data] Downloading package punkt to /root/nltk_data...\n",
            "[nltk_data]   Package punkt is already up-to-date!\n",
            "[nltk_data] Downloading package wordnet to /root/nltk_data...\n",
            "[nltk_data]   Package wordnet is already up-to-date!\n",
            "[nltk_data] Downloading package averaged_perceptron_tagger to\n",
            "[nltk_data]     /root/nltk_data...\n",
            "[nltk_data]   Package averaged_perceptron_tagger is already up-to-\n",
            "[nltk_data]       date!\n",
            "[nltk_data] Downloading package conll2000 to /root/nltk_data...\n",
            "[nltk_data]   Package conll2000 is already up-to-date!\n",
            "[nltk_data] Downloading package movie_reviews to /root/nltk_data...\n",
            "[nltk_data]   Package movie_reviews is already up-to-date!\n",
            "Finished.\n"
          ],
          "name": "stdout"
        }
      ]
    },
    {
      "metadata": {
        "id": "cA58tMRcbl39",
        "colab_type": "code",
        "colab": {}
      },
      "cell_type": "code",
      "source": [
        ""
      ],
      "execution_count": 0,
      "outputs": []
    },
    {
      "metadata": {
        "id": "LO9DvVFmkmGi",
        "colab_type": "code",
        "colab": {}
      },
      "cell_type": "code",
      "source": [
        "from textblob import TextBlob"
      ],
      "execution_count": 0,
      "outputs": []
    },
    {
      "metadata": {
        "id": "SfZOMwktb1RX",
        "colab_type": "code",
        "colab": {}
      },
      "cell_type": "code",
      "source": [
        ""
      ],
      "execution_count": 0,
      "outputs": []
    },
    {
      "metadata": {
        "id": "oYPXPDxek42U",
        "colab_type": "code",
        "outputId": "1310365c-8748-4246-a655-d5e30b0f1ee0",
        "colab": {
          "base_uri": "https://localhost:8080/",
          "height": 35
        }
      },
      "cell_type": "code",
      "source": [
        "testimonial = TextBlob(r.json()['articles'][0]['content'])\n",
        "print(testimonial.sentiment)"
      ],
      "execution_count": 72,
      "outputs": [
        {
          "output_type": "stream",
          "text": [
            "Sentiment(polarity=0.04545454545454545, subjectivity=0.18484848484848485)\n"
          ],
          "name": "stdout"
        }
      ]
    },
    {
      "metadata": {
        "id": "SZH4II-ob6vc",
        "colab_type": "code",
        "colab": {}
      },
      "cell_type": "code",
      "source": [
        ""
      ],
      "execution_count": 0,
      "outputs": []
    },
    {
      "metadata": {
        "id": "FgFx1b5MnqSa",
        "colab_type": "code",
        "outputId": "8e0d8b42-4214-4cad-a07f-cc08ad821982",
        "colab": {
          "base_uri": "https://localhost:8080/",
          "height": 413
        }
      },
      "cell_type": "code",
      "source": [
        "s = 0\n",
        "for i in range (0,20):\n",
        "  y= TextBlob(r.json()['articles'][i]['title'])\n",
        "  x= TextBlob(str(r.json()['articles'][i]['content']))\n",
        "  sentimental_score = x.sentiment.polarity * 0.7 + 0.3 * y.sentiment.polarity\n",
        "  s = s + sentimental_score\n",
        "  print(sentimental_score)\n",
        "print(s/20)"
      ],
      "execution_count": 78,
      "outputs": [
        {
          "output_type": "stream",
          "text": [
            "0.031818181818181815\n",
            "0.17777777777777776\n",
            "0.22386363636363635\n",
            "0.0\n",
            "0.345\n",
            "0.26\n",
            "0.0\n",
            "0.023068181818181814\n",
            "-0.04199134199134198\n",
            "0.019555555555555548\n",
            "0.0\n",
            "0.031818181818181815\n",
            "0.5\n",
            "-0.004478114478114487\n",
            "0.0\n",
            "0.09\n",
            "0.09545454545454544\n",
            "0.034999999999999996\n",
            "0.23545454545454542\n",
            "-0.3522727272727273\n",
            "0.0835034211159211\n"
          ],
          "name": "stdout"
        }
      ]
    },
    {
      "metadata": {
        "id": "hud9AxWadKaf",
        "colab_type": "code",
        "colab": {}
      },
      "cell_type": "code",
      "source": [
        ""
      ],
      "execution_count": 0,
      "outputs": []
    },
    {
      "metadata": {
        "id": "wMYcoxFrdFb5",
        "colab_type": "code",
        "colab": {}
      },
      "cell_type": "code",
      "source": [
        ""
      ],
      "execution_count": 0,
      "outputs": []
    },
    {
      "metadata": {
        "id": "B9En9_x4c1P-",
        "colab_type": "code",
        "colab": {}
      },
      "cell_type": "code",
      "source": [
        ""
      ],
      "execution_count": 0,
      "outputs": []
    },
    {
      "metadata": {
        "id": "uZ9_yfxBr5Hg",
        "colab_type": "text"
      },
      "cell_type": "markdown",
      "source": [
        "-------------------------MAIN FUNCTIONS START HERE -----------------------------"
      ]
    },
    {
      "metadata": {
        "id": "avdEutmYcyjb",
        "colab_type": "code",
        "colab": {}
      },
      "cell_type": "code",
      "source": [
        ""
      ],
      "execution_count": 0,
      "outputs": []
    },
    {
      "metadata": {
        "id": "RiWWSBTgcuwB",
        "colab_type": "code",
        "colab": {
          "base_uri": "https://localhost:8080/",
          "height": 640
        },
        "outputId": "2ef650c4-5aef-4c1f-99e7-0d8d428ee8b5"
      },
      "cell_type": "code",
      "source": [
        "!apt-get install python3-bs4"
      ],
      "execution_count": 22,
      "outputs": [
        {
          "output_type": "stream",
          "text": [
            "Reading package lists... Done\n",
            "Building dependency tree       \n",
            "Reading state information... Done\n",
            "The following package was automatically installed and is no longer required:\n",
            "  libnvidia-common-410\n",
            "Use 'apt autoremove' to remove it.\n",
            "The following additional packages will be installed:\n",
            "  python3-chardet python3-pkg-resources\n",
            "Suggested packages:\n",
            "  python3-setuptools\n",
            "The following NEW packages will be installed:\n",
            "  python3-bs4 python3-chardet python3-pkg-resources\n",
            "0 upgraded, 3 newly installed, 0 to remove and 6 not upgraded.\n",
            "Need to get 247 kB of archives.\n",
            "After this operation, 1,324 kB of additional disk space will be used.\n",
            "Get:1 http://archive.ubuntu.com/ubuntu bionic/main amd64 python3-bs4 all 4.6.0-1 [67.8 kB]\n",
            "Get:2 http://archive.ubuntu.com/ubuntu bionic/main amd64 python3-pkg-resources all 39.0.1-2 [98.8 kB]\n",
            "Get:3 http://archive.ubuntu.com/ubuntu bionic/main amd64 python3-chardet all 3.0.4-1 [80.3 kB]\n",
            "Fetched 247 kB in 1s (223 kB/s)\n",
            "Selecting previously unselected package python3-bs4.\n",
            "(Reading database ... 131294 files and directories currently installed.)\n",
            "Preparing to unpack .../python3-bs4_4.6.0-1_all.deb ...\n",
            "Unpacking python3-bs4 (4.6.0-1) ...\n",
            "Selecting previously unselected package python3-pkg-resources.\n",
            "Preparing to unpack .../python3-pkg-resources_39.0.1-2_all.deb ...\n",
            "Unpacking python3-pkg-resources (39.0.1-2) ...\n",
            "Selecting previously unselected package python3-chardet.\n",
            "Preparing to unpack .../python3-chardet_3.0.4-1_all.deb ...\n",
            "Unpacking python3-chardet (3.0.4-1) ...\n",
            "Setting up python3-pkg-resources (39.0.1-2) ...\n",
            "Setting up python3-bs4 (4.6.0-1) ...\n",
            "Setting up python3-chardet (3.0.4-1) ...\n",
            "Processing triggers for man-db (2.8.3-2ubuntu0.1) ...\n"
          ],
          "name": "stdout"
        }
      ]
    },
    {
      "metadata": {
        "id": "cUXwwLm7BhLy",
        "colab_type": "code",
        "colab": {}
      },
      "cell_type": "code",
      "source": [
        "url=\"https://www.news18.com/news/politics/pm-changes-name-on-twitter-to-chowkidar-narendra-modi-chowkidar-amit-shah-follows-suit-2069089.html\""
      ],
      "execution_count": 0,
      "outputs": []
    },
    {
      "metadata": {
        "id": "Lmyof9c1kLkD",
        "colab_type": "code",
        "colab": {}
      },
      "cell_type": "code",
      "source": [
        "from urllib.parse import urlparse\n",
        "from textblob import TextBlob\n",
        "import requests\n",
        "import requests\n",
        "from bs4 import BeautifulSoup\n",
        "import json"
      ],
      "execution_count": 0,
      "outputs": []
    },
    {
      "metadata": {
        "id": "Xti6eII5okoD",
        "colab_type": "code",
        "colab": {}
      },
      "cell_type": "code",
      "source": [
        "response = requests.get(url)"
      ],
      "execution_count": 0,
      "outputs": []
    },
    {
      "metadata": {
        "id": "l6svgJkRm4qa",
        "colab_type": "code",
        "colab": {
          "base_uri": "https://localhost:8080/",
          "height": 35
        },
        "outputId": "67c9ea2a-633f-4cc1-ccdf-2f9515806fa8"
      },
      "cell_type": "code",
      "source": [
        "def getBiasedPercentage(url):\n",
        "  domain = urlparse(url).netloc.split(\"www.\")[1]\n",
        "  query = 'modi'\n",
        "  url_new= 'https://newsapi.org/v2/everything?domains='+domain+'&q='+query+'&apiKey=b733bcf9e0944cfd9fa44cea62ec3aef'\n",
        "  r = requests.get(url=url_new)\n",
        "  s = 0\n",
        "  for i in range (0,20):\n",
        "    y= TextBlob(r.json()['articles'][i]['title'])\n",
        "    x= TextBlob(str(r.json()['articles'][i]['content']))\n",
        "    sentimental_score = x.sentiment.polarity * 0.7 + 0.3 * y.sentiment.polarity\n",
        "    s = s + sentimental_score\n",
        "  print(s/20)\n",
        "getBiasedPercentage(\"https://www.news18.com/news/politics/pm-changes-name-on-twitter-to-chowkidar-narendra-modi-chowkidar-amit-shah-follows-suit-2069089.html\")"
      ],
      "execution_count": 19,
      "outputs": [
        {
          "output_type": "stream",
          "text": [
            "0.10274205747955747\n"
          ],
          "name": "stdout"
        }
      ]
    },
    {
      "metadata": {
        "id": "xGdOxWzb0UBS",
        "colab_type": "text"
      },
      "cell_type": "markdown",
      "source": [
        "Function to get the query terms by scraping (under construction)"
      ]
    },
    {
      "metadata": {
        "id": "nLuEbpahoBwt",
        "colab_type": "code",
        "colab": {
          "base_uri": "https://localhost:8080/",
          "height": 324
        },
        "outputId": "931149cd-e88c-4ce0-9059-95dbd4b5ab79"
      },
      "cell_type": "code",
      "source": [
        "def print_headlines(response_text):\n",
        "    soup = BeautifulSoup(response_text, 'lxml')\n",
        "    headlines = soup.find_all('h1')[0].text.strip()\n",
        "    for headline in headlines:\n",
        "        print(headline.text)\n",
        "print_headlines(response.text)"
      ],
      "execution_count": 38,
      "outputs": [
        {
          "output_type": "error",
          "ename": "AttributeError",
          "evalue": "ignored",
          "traceback": [
            "\u001b[0;31m---------------------------------------------------------------------------\u001b[0m",
            "\u001b[0;31mAttributeError\u001b[0m                            Traceback (most recent call last)",
            "\u001b[0;32m<ipython-input-38-4404986afaef>\u001b[0m in \u001b[0;36m<module>\u001b[0;34m()\u001b[0m\n\u001b[1;32m      4\u001b[0m     \u001b[0;32mfor\u001b[0m \u001b[0mheadline\u001b[0m \u001b[0;32min\u001b[0m \u001b[0mheadlines\u001b[0m\u001b[0;34m:\u001b[0m\u001b[0;34m\u001b[0m\u001b[0;34m\u001b[0m\u001b[0m\n\u001b[1;32m      5\u001b[0m         \u001b[0mprint\u001b[0m\u001b[0;34m(\u001b[0m\u001b[0mheadline\u001b[0m\u001b[0;34m.\u001b[0m\u001b[0mtext\u001b[0m\u001b[0;34m)\u001b[0m\u001b[0;34m\u001b[0m\u001b[0;34m\u001b[0m\u001b[0m\n\u001b[0;32m----> 6\u001b[0;31m \u001b[0mprint_headlines\u001b[0m\u001b[0;34m(\u001b[0m\u001b[0mresponse\u001b[0m\u001b[0;34m.\u001b[0m\u001b[0mtext\u001b[0m\u001b[0;34m)\u001b[0m\u001b[0;34m\u001b[0m\u001b[0;34m\u001b[0m\u001b[0m\n\u001b[0m",
            "\u001b[0;32m<ipython-input-38-4404986afaef>\u001b[0m in \u001b[0;36mprint_headlines\u001b[0;34m(response_text)\u001b[0m\n\u001b[1;32m      3\u001b[0m     \u001b[0mheadlines\u001b[0m \u001b[0;34m=\u001b[0m \u001b[0msoup\u001b[0m\u001b[0;34m.\u001b[0m\u001b[0mfind_all\u001b[0m\u001b[0;34m(\u001b[0m\u001b[0;34m'h1'\u001b[0m\u001b[0;34m)\u001b[0m\u001b[0;34m[\u001b[0m\u001b[0;36m0\u001b[0m\u001b[0;34m]\u001b[0m\u001b[0;34m.\u001b[0m\u001b[0mtext\u001b[0m\u001b[0;34m.\u001b[0m\u001b[0mstrip\u001b[0m\u001b[0;34m(\u001b[0m\u001b[0;34m)\u001b[0m\u001b[0;34m\u001b[0m\u001b[0;34m\u001b[0m\u001b[0m\n\u001b[1;32m      4\u001b[0m     \u001b[0;32mfor\u001b[0m \u001b[0mheadline\u001b[0m \u001b[0;32min\u001b[0m \u001b[0mheadlines\u001b[0m\u001b[0;34m:\u001b[0m\u001b[0;34m\u001b[0m\u001b[0;34m\u001b[0m\u001b[0m\n\u001b[0;32m----> 5\u001b[0;31m         \u001b[0mprint\u001b[0m\u001b[0;34m(\u001b[0m\u001b[0mheadline\u001b[0m\u001b[0;34m.\u001b[0m\u001b[0mtext\u001b[0m\u001b[0;34m)\u001b[0m\u001b[0;34m\u001b[0m\u001b[0;34m\u001b[0m\u001b[0m\n\u001b[0m\u001b[1;32m      6\u001b[0m \u001b[0mprint_headlines\u001b[0m\u001b[0;34m(\u001b[0m\u001b[0mresponse\u001b[0m\u001b[0;34m.\u001b[0m\u001b[0mtext\u001b[0m\u001b[0;34m)\u001b[0m\u001b[0;34m\u001b[0m\u001b[0;34m\u001b[0m\u001b[0m\n",
            "\u001b[0;31mAttributeError\u001b[0m: 'str' object has no attribute 'text'"
          ]
        }
      ]
    },
    {
      "metadata": {
        "id": "XMRu1TQVyZOx",
        "colab_type": "code",
        "colab": {}
      },
      "cell_type": "code",
      "source": [
        ""
      ],
      "execution_count": 0,
      "outputs": []
    },
    {
      "metadata": {
        "id": "Nve7agsJyT5b",
        "colab_type": "code",
        "colab": {}
      },
      "cell_type": "code",
      "source": [
        ""
      ],
      "execution_count": 0,
      "outputs": []
    },
    {
      "metadata": {
        "id": "zLXBrWANyJt7",
        "colab_type": "code",
        "colab": {}
      },
      "cell_type": "code",
      "source": [
        ""
      ],
      "execution_count": 0,
      "outputs": []
    },
    {
      "metadata": {
        "id": "vIK91JViyCw2",
        "colab_type": "code",
        "colab": {}
      },
      "cell_type": "code",
      "source": [
        ""
      ],
      "execution_count": 0,
      "outputs": []
    },
    {
      "metadata": {
        "id": "kRbU4on2x9-x",
        "colab_type": "code",
        "colab": {}
      },
      "cell_type": "code",
      "source": [
        ""
      ],
      "execution_count": 0,
      "outputs": []
    },
    {
      "metadata": {
        "id": "rGsVUNfBx3tk",
        "colab_type": "code",
        "colab": {}
      },
      "cell_type": "code",
      "source": [
        ""
      ],
      "execution_count": 0,
      "outputs": []
    },
    {
      "metadata": {
        "id": "JJgmCO_kvN__",
        "colab_type": "code",
        "colab": {}
      },
      "cell_type": "code",
      "source": [
        ""
      ],
      "execution_count": 0,
      "outputs": []
    },
    {
      "metadata": {
        "id": "La5pi2J7qgp8",
        "colab_type": "code",
        "colab": {}
      },
      "cell_type": "code",
      "source": [
        ""
      ],
      "execution_count": 0,
      "outputs": []
    },
    {
      "metadata": {
        "id": "6qPo9dZpp1jE",
        "colab_type": "code",
        "colab": {}
      },
      "cell_type": "code",
      "source": [
        ""
      ],
      "execution_count": 0,
      "outputs": []
    },
    {
      "metadata": {
        "id": "28OLRF8Lpk8g",
        "colab_type": "code",
        "colab": {}
      },
      "cell_type": "code",
      "source": [
        ""
      ],
      "execution_count": 0,
      "outputs": []
    },
    {
      "metadata": {
        "id": "umhA2kddpQhX",
        "colab_type": "code",
        "colab": {}
      },
      "cell_type": "code",
      "source": [
        ""
      ],
      "execution_count": 0,
      "outputs": []
    },
    {
      "metadata": {
        "id": "ZqfzN_BHof6R",
        "colab_type": "code",
        "colab": {}
      },
      "cell_type": "code",
      "source": [
        ""
      ],
      "execution_count": 0,
      "outputs": []
    },
    {
      "metadata": {
        "id": "K1q1luAumdsb",
        "colab_type": "code",
        "colab": {}
      },
      "cell_type": "code",
      "source": [
        ""
      ],
      "execution_count": 0,
      "outputs": []
    },
    {
      "metadata": {
        "id": "itHe_YaRlqry",
        "colab_type": "code",
        "colab": {}
      },
      "cell_type": "code",
      "source": [
        ""
      ],
      "execution_count": 0,
      "outputs": []
    },
    {
      "metadata": {
        "id": "h5wCZ-yflmtq",
        "colab_type": "code",
        "colab": {}
      },
      "cell_type": "code",
      "source": [
        ""
      ],
      "execution_count": 0,
      "outputs": []
    },
    {
      "metadata": {
        "id": "cFPE57eolkkQ",
        "colab_type": "code",
        "colab": {}
      },
      "cell_type": "code",
      "source": [
        ""
      ],
      "execution_count": 0,
      "outputs": []
    },
    {
      "metadata": {
        "id": "4fgONPBClf32",
        "colab_type": "code",
        "colab": {}
      },
      "cell_type": "code",
      "source": [
        ""
      ],
      "execution_count": 0,
      "outputs": []
    },
    {
      "metadata": {
        "id": "cjXix7SmlXIg",
        "colab_type": "code",
        "colab": {}
      },
      "cell_type": "code",
      "source": [
        ""
      ],
      "execution_count": 0,
      "outputs": []
    },
    {
      "metadata": {
        "id": "bsWP-SLSkryq",
        "colab_type": "code",
        "colab": {}
      },
      "cell_type": "code",
      "source": [
        ""
      ],
      "execution_count": 0,
      "outputs": []
    },
    {
      "metadata": {
        "id": "YaPdGvLtkoI6",
        "colab_type": "code",
        "colab": {}
      },
      "cell_type": "code",
      "source": [
        ""
      ],
      "execution_count": 0,
      "outputs": []
    }
  ]
}